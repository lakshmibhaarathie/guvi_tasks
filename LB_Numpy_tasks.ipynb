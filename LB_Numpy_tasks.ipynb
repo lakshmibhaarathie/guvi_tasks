{
  "cells": [
    {
      "cell_type": "markdown",
      "metadata": {
        "id": "m8iz0syxBjpW"
      },
      "source": [
        "# Numpy\n",
        "\n"
      ]
    },
    {
      "cell_type": "markdown",
      "metadata": {
        "id": "NKQJDmp1Bjpj"
      },
      "source": [
        "#### 1. Import the numpy package under the name `np` (★☆☆) \n",
        "(**hint**: import … as …)"
      ]
    },
    {
      "cell_type": "code",
      "execution_count": 2,
      "metadata": {
        "collapsed": true,
        "id": "pVWnEAR8Bjpn"
      },
      "outputs": [],
      "source": [
        "import numpy as np"
      ]
    },
    {
      "cell_type": "markdown",
      "metadata": {
        "id": "68ucmiMUBjpq"
      },
      "source": [
        "#### 2. Print the numpy version and the configuration (★☆☆) \n",
        "(**hint**: np.\\_\\_version\\_\\_, np.show\\_config)"
      ]
    },
    {
      "cell_type": "code",
      "execution_count": null,
      "metadata": {
        "id": "Ep1MUgPuBjps",
        "outputId": "60bcec5b-ed00-4fb4-d01d-f0b1b83057e8",
        "colab": {
          "base_uri": "https://localhost:8080/"
        }
      },
      "outputs": [
        {
          "output_type": "stream",
          "name": "stdout",
          "text": [
            "1.19.5\n",
            "blas_mkl_info:\n",
            "  NOT AVAILABLE\n",
            "blis_info:\n",
            "  NOT AVAILABLE\n",
            "openblas_info:\n",
            "    libraries = ['openblas', 'openblas']\n",
            "    library_dirs = ['/usr/local/lib']\n",
            "    language = c\n",
            "    define_macros = [('HAVE_CBLAS', None)]\n",
            "blas_opt_info:\n",
            "    libraries = ['openblas', 'openblas']\n",
            "    library_dirs = ['/usr/local/lib']\n",
            "    language = c\n",
            "    define_macros = [('HAVE_CBLAS', None)]\n",
            "lapack_mkl_info:\n",
            "  NOT AVAILABLE\n",
            "openblas_lapack_info:\n",
            "    libraries = ['openblas', 'openblas']\n",
            "    library_dirs = ['/usr/local/lib']\n",
            "    language = c\n",
            "    define_macros = [('HAVE_CBLAS', None)]\n",
            "lapack_opt_info:\n",
            "    libraries = ['openblas', 'openblas']\n",
            "    library_dirs = ['/usr/local/lib']\n",
            "    language = c\n",
            "    define_macros = [('HAVE_CBLAS', None)]\n",
            "None\n"
          ]
        }
      ],
      "source": [
        "print(np.__version__)\n",
        "print(np.show_config())"
      ]
    },
    {
      "cell_type": "markdown",
      "metadata": {
        "id": "srrFJFQwBjpu"
      },
      "source": [
        "#### 3. Create a null vector of size 10 (★☆☆) \n",
        "(**hint**: np.zeros)"
      ]
    },
    {
      "cell_type": "code",
      "execution_count": null,
      "metadata": {
        "id": "6_sOqmtcBjpw",
        "outputId": "65ea5e71-1fae-43ea-91cc-19e1422d76af",
        "colab": {
          "base_uri": "https://localhost:8080/"
        }
      },
      "outputs": [
        {
          "output_type": "stream",
          "name": "stdout",
          "text": [
            "[0. 0. 0. 0. 0. 0. 0. 0. 0. 0.]\n"
          ]
        }
      ],
      "source": [
        "a=np.zeros(10)\n",
        "print(a)"
      ]
    },
    {
      "cell_type": "markdown",
      "metadata": {
        "id": "zSmfr5wLBjp0"
      },
      "source": [
        "#### 4.  How to find the memory size of any array (★☆☆) \n",
        "(**hint**: size, itemsize)"
      ]
    },
    {
      "cell_type": "code",
      "execution_count": null,
      "metadata": {
        "id": "xyr__E9UBjp2",
        "outputId": "0c9f96e7-4b1c-474b-c8bb-b3533051f873",
        "colab": {
          "base_uri": "https://localhost:8080/"
        }
      },
      "outputs": [
        {
          "output_type": "stream",
          "name": "stdout",
          "text": [
            "memory size : 80\n"
          ]
        }
      ],
      "source": [
        "print(\"memory size :\",a.size*a.itemsize)"
      ]
    },
    {
      "cell_type": "markdown",
      "metadata": {
        "id": "twzaG3eVBjp4"
      },
      "source": [
        "#### 5.  How to get the documentation of the numpy add function from the command line? (★☆☆) \n",
        "(**hint**: np.info)"
      ]
    },
    {
      "cell_type": "code",
      "execution_count": null,
      "metadata": {
        "collapsed": true,
        "id": "BUwGTPXGBjp5",
        "outputId": "dfdd48cf-93b8-45ef-ecb8-bf926629e647",
        "colab": {
          "base_uri": "https://localhost:8080/"
        }
      },
      "outputs": [
        {
          "output_type": "stream",
          "name": "stdout",
          "text": [
            "None\n"
          ]
        }
      ],
      "source": [
        "print(np.info(np.add))"
      ]
    },
    {
      "cell_type": "markdown",
      "metadata": {
        "id": "vo1ZLTNcBjp6"
      },
      "source": [
        "#### 6.  Create a null vector of size 10 but the fifth value which is 1 (★☆☆) \n",
        "(**hint**: array\\[4\\])"
      ]
    },
    {
      "cell_type": "code",
      "execution_count": null,
      "metadata": {
        "id": "rwU9376CBjp7",
        "outputId": "0b005d3f-b761-48c2-8ce5-bb1e3d3acfe4",
        "colab": {
          "base_uri": "https://localhost:8080/"
        }
      },
      "outputs": [
        {
          "output_type": "stream",
          "name": "stdout",
          "text": [
            "[0. 0. 0. 0. 1. 0. 0. 0. 0. 0.]\n"
          ]
        }
      ],
      "source": [
        "a=np.zeros(10)\n",
        "a[4]=1\n",
        "print(a)\n"
      ]
    },
    {
      "cell_type": "markdown",
      "metadata": {
        "id": "orLm_rf_Bjp8"
      },
      "source": [
        "#### 7.  Create a vector with values ranging from 10 to 49 (★☆☆) \n",
        "(**hint**: np.arange)"
      ]
    },
    {
      "cell_type": "code",
      "execution_count": null,
      "metadata": {
        "id": "Y__YAy6DBjqA",
        "outputId": "86716346-d382-4201-e3e9-765f46189f49",
        "colab": {
          "base_uri": "https://localhost:8080/"
        }
      },
      "outputs": [
        {
          "output_type": "stream",
          "name": "stdout",
          "text": [
            "[10 11 12 13 14 15 16 17 18 19 20 21 22 23 24 25 26 27 28 29 30 31 32 33\n",
            " 34 35 36 37 38 39 40 41 42 43 44 45 46 47 48 49]\n"
          ]
        }
      ],
      "source": [
        "a=np.arange(10,50)\n",
        "print(a)"
      ]
    },
    {
      "cell_type": "markdown",
      "metadata": {
        "id": "sIUmi2eHBjqD"
      },
      "source": [
        "#### 8.  Reverse a vector (first element becomes last) (★☆☆) \n",
        "(**hint**: array\\[::-1\\])"
      ]
    },
    {
      "cell_type": "code",
      "execution_count": null,
      "metadata": {
        "id": "GKDrPq2-BjqE",
        "outputId": "e6b519b1-52c9-492d-bed1-38614ab88e13",
        "colab": {
          "base_uri": "https://localhost:8080/"
        }
      },
      "outputs": [
        {
          "output_type": "stream",
          "name": "stdout",
          "text": [
            "[9 8 7 6 5 4 3 2 1 0]\n"
          ]
        }
      ],
      "source": [
        "a=np.arange(10)\n",
        "print(a[::-1])"
      ]
    },
    {
      "cell_type": "markdown",
      "metadata": {
        "id": "VR2Krur3BjqH"
      },
      "source": [
        "#### 9.  Create a 3x3 matrix with values ranging from 0 to 8 (★☆☆) \n",
        "(**hint**: reshape)"
      ]
    },
    {
      "cell_type": "code",
      "execution_count": null,
      "metadata": {
        "id": "wljLz4BzBjqI",
        "outputId": "a5a54793-0efe-45f3-ce08-252de1e4c581",
        "colab": {
          "base_uri": "https://localhost:8080/"
        }
      },
      "outputs": [
        {
          "output_type": "stream",
          "name": "stdout",
          "text": [
            "[[0 1 2]\n",
            " [3 4 5]\n",
            " [6 7 8]]\n"
          ]
        }
      ],
      "source": [
        "a=np.arange(9).reshape(3,3)\n",
        "print(a)"
      ]
    },
    {
      "cell_type": "markdown",
      "metadata": {
        "id": "rMNWAwSuBjqJ"
      },
      "source": [
        "#### 10. Find indices of non-zero elements from \\[1,2,0,0,4,0\\] (★☆☆) \n",
        "(**hint**: np.nonzero)"
      ]
    },
    {
      "cell_type": "code",
      "execution_count": null,
      "metadata": {
        "id": "J8c-jKR5BjqK",
        "outputId": "c8ce27cc-5e53-4c87-baab-0f5b9e89381e",
        "colab": {
          "base_uri": "https://localhost:8080/"
        }
      },
      "outputs": [
        {
          "output_type": "stream",
          "name": "stdout",
          "text": [
            "(array([0, 1, 4]),)\n"
          ]
        }
      ],
      "source": [
        "a=[1,2,0,0,4,0]\n",
        "print(np.nonzero(a))"
      ]
    },
    {
      "cell_type": "markdown",
      "metadata": {
        "id": "EKEaRSF3BjqL"
      },
      "source": [
        "#### 11. Create a 3x3 identity matrix (★☆☆) \n",
        "(**hint**: np.eye)"
      ]
    },
    {
      "cell_type": "code",
      "execution_count": null,
      "metadata": {
        "id": "xKOU2HEIBjqL",
        "outputId": "8a8a8765-9f7d-4c88-e4c5-8ef8fba689ee",
        "colab": {
          "base_uri": "https://localhost:8080/"
        }
      },
      "outputs": [
        {
          "output_type": "stream",
          "name": "stdout",
          "text": [
            "[[1 0 0]\n",
            " [0 1 0]\n",
            " [0 0 1]]\n"
          ]
        }
      ],
      "source": [
        "a=np.eye(3,dtype=int)\n",
        "print(a)"
      ]
    },
    {
      "cell_type": "markdown",
      "metadata": {
        "id": "1J3nIGIHBjqM"
      },
      "source": [
        "#### 12. Create a 3x3x3 array with random values (★☆☆) \n",
        "(**hint**: np.random.random)"
      ]
    },
    {
      "cell_type": "code",
      "execution_count": null,
      "metadata": {
        "collapsed": true,
        "id": "2GXfkC8ZBjqN",
        "outputId": "3a1e2f6a-d986-4af1-e058-6f5cae60c932",
        "colab": {
          "base_uri": "https://localhost:8080/"
        }
      },
      "outputs": [
        {
          "output_type": "stream",
          "name": "stdout",
          "text": [
            "[[[0.64200614 0.19758184 0.94606381]\n",
            "  [0.59741888 0.12450668 0.13767371]\n",
            "  [0.65466607 0.92381327 0.73401545]]\n",
            "\n",
            " [[0.86165569 0.26550742 0.59895377]\n",
            "  [0.46598533 0.18888175 0.41714262]\n",
            "  [0.53439862 0.55042892 0.56063615]]\n",
            "\n",
            " [[0.93029816 0.83457083 0.6060538 ]\n",
            "  [0.16398672 0.99442799 0.23169954]\n",
            "  [0.16914189 0.05874973 0.72838066]]]\n"
          ]
        }
      ],
      "source": [
        "a=np.random.random(27).reshape(3,3,3)\n",
        "print(a)"
      ]
    },
    {
      "cell_type": "markdown",
      "metadata": {
        "id": "KDlAngRWBjqN"
      },
      "source": [
        "#### 13. Create a 10x10 array with random values and find the minimum and maximum values (★☆☆) \n",
        "(**hint**: min, max)"
      ]
    },
    {
      "cell_type": "code",
      "execution_count": null,
      "metadata": {
        "id": "DAMrZLo9BjqQ",
        "outputId": "4aedc79a-45a3-41e2-9708-b51131d0ff43",
        "colab": {
          "base_uri": "https://localhost:8080/"
        }
      },
      "outputs": [
        {
          "output_type": "stream",
          "name": "stdout",
          "text": [
            "min : 0.01298202376385349 max : 0.9677561333064859\n"
          ]
        }
      ],
      "source": [
        "a=np.random.random(100).reshape(10,10)\n",
        "print(\"min :\",np.min(a),\"max :\",np.max(a))"
      ]
    },
    {
      "cell_type": "markdown",
      "metadata": {
        "id": "vqwQZNa3BjqR"
      },
      "source": [
        "#### 14. Create a random vector of size 30 and find the mean value (★☆☆) \n",
        "(**hint**: mean)"
      ]
    },
    {
      "cell_type": "code",
      "execution_count": null,
      "metadata": {
        "id": "WKBr-iQaBjqU",
        "outputId": "b6c0e4f3-df22-4e7f-ab2b-d1a492114970",
        "colab": {
          "base_uri": "https://localhost:8080/"
        }
      },
      "outputs": [
        {
          "output_type": "stream",
          "name": "stdout",
          "text": [
            "0.534049234471895\n"
          ]
        },
        {
          "output_type": "execute_result",
          "data": {
            "text/plain": [
              "0.534049234471895"
            ]
          },
          "metadata": {},
          "execution_count": 39
        }
      ],
      "source": [
        "a=np.random.random(30)\n",
        "print(np.mean(a))"
      ]
    },
    {
      "cell_type": "markdown",
      "metadata": {
        "id": "4K9-zkc8BjqU"
      },
      "source": [
        "#### 15. Create a 2d array with 1 on the border and 0 inside (★☆☆) \n",
        "(**hint**: array\\[1:-1, 1:-1\\])"
      ]
    },
    {
      "cell_type": "code",
      "execution_count": null,
      "metadata": {
        "id": "gI4kAVQHBjqV",
        "outputId": "ad9855fa-80c0-4cb6-db29-aa882f8a20ff",
        "colab": {
          "base_uri": "https://localhost:8080/"
        }
      },
      "outputs": [
        {
          "output_type": "stream",
          "name": "stdout",
          "text": [
            "[[1 1 1 1 1]\n",
            " [1 0 0 0 1]\n",
            " [1 0 0 0 1]\n",
            " [1 0 0 0 1]\n",
            " [1 1 1 1 1]]\n"
          ]
        },
        {
          "output_type": "execute_result",
          "data": {
            "text/plain": [
              "2"
            ]
          },
          "metadata": {},
          "execution_count": 47
        }
      ],
      "source": [
        "a=np.ones((5,5),dtype=int)\n",
        "a[1:-1,1:-1]=0\n",
        "print(a)"
      ]
    },
    {
      "cell_type": "markdown",
      "metadata": {
        "id": "9CUxVtlXBjqV"
      },
      "source": [
        "#### 16. How to add a border (filled with 0's) around an existing array? (★☆☆) \n",
        "(**hint**: np.pad)"
      ]
    },
    {
      "cell_type": "code",
      "execution_count": null,
      "metadata": {
        "id": "509c_11BBjqW",
        "outputId": "e697b14a-2e9c-465b-be1a-6a99d6da7efe",
        "colab": {
          "base_uri": "https://localhost:8080/"
        }
      },
      "outputs": [
        {
          "output_type": "execute_result",
          "data": {
            "text/plain": [
              "array([[0., 0., 0., 0.],\n",
              "       [0., 1., 1., 0.],\n",
              "       [0., 1., 1., 0.],\n",
              "       [0., 0., 0., 0.]])"
            ]
          },
          "metadata": {},
          "execution_count": 53
        }
      ],
      "source": [
        "a=np.ones((2,2))\n",
        "a=np.pad(a,pad_width=1,mode=\"constant\",constant_values=0)\n",
        "a"
      ]
    },
    {
      "cell_type": "markdown",
      "metadata": {
        "id": "Lesj7IleBjqX"
      },
      "source": [
        "#### 17. What is the result of the following expression? (★☆☆) \n",
        "(**hint**: NaN = not a number, inf = infinity)"
      ]
    },
    {
      "cell_type": "markdown",
      "metadata": {
        "id": "CTLymHg8BjqX"
      },
      "source": [
        "```python\n",
        "0 * np.nan\n",
        "np.nan == np.nan\n",
        "np.inf > np.nan\n",
        "np.nan - np.nan\n",
        "0.3 == 3 * 0.1\n",
        "```"
      ]
    },
    {
      "cell_type": "code",
      "execution_count": null,
      "metadata": {
        "id": "eFRZDqC_BjqY",
        "outputId": "cc07f3b9-68d0-4d6f-be43-16cb22aaf181",
        "colab": {
          "base_uri": "https://localhost:8080/"
        }
      },
      "outputs": [
        {
          "output_type": "execute_result",
          "data": {
            "text/plain": [
              "nan"
            ]
          },
          "metadata": {},
          "execution_count": 57
        }
      ],
      "source": [
        "nan\n",
        "False\n",
        "False\n",
        "nan\n",
        "False"
      ]
    },
    {
      "cell_type": "markdown",
      "metadata": {
        "id": "IskGU5S1BjqZ"
      },
      "source": [
        "#### 18. Create a 5x5 matrix with values 1,2,3,4 just below the diagonal (★☆☆) \n",
        "(**hint**: np.diag)"
      ]
    },
    {
      "cell_type": "code",
      "execution_count": null,
      "metadata": {
        "id": "Hmep858HBjqa",
        "outputId": "470bec2a-5b54-4517-c19c-41cfa3bcb909",
        "colab": {
          "base_uri": "https://localhost:8080/"
        }
      },
      "outputs": [
        {
          "output_type": "stream",
          "name": "stdout",
          "text": [
            "[[0 0 0 0 0]\n",
            " [1 0 0 0 0]\n",
            " [0 2 0 0 0]\n",
            " [0 0 3 0 0]\n",
            " [0 0 0 4 0]]\n"
          ]
        }
      ],
      "source": [
        "a=np.diag(1+np.arange(4),k=-1)\n",
        "print(a)"
      ]
    },
    {
      "cell_type": "markdown",
      "metadata": {
        "id": "cRK14N5GBjqa"
      },
      "source": [
        "#### 19. Create a 8x8 matrix and fill it with a checkerboard pattern (★☆☆) \n",
        "(**hint**: array\\[::2\\])"
      ]
    },
    {
      "cell_type": "code",
      "execution_count": null,
      "metadata": {
        "id": "md0bqdp3Bjqb",
        "outputId": "fb1a9c1d-9d75-4b6e-8ea2-161caa944104",
        "colab": {
          "base_uri": "https://localhost:8080/"
        }
      },
      "outputs": [
        {
          "output_type": "stream",
          "name": "stdout",
          "text": [
            "[[0 1 0 1 0 1 0 1]\n",
            " [1 0 1 0 1 0 1 0]\n",
            " [0 1 0 1 0 1 0 1]\n",
            " [1 0 1 0 1 0 1 0]\n",
            " [0 1 0 1 0 1 0 1]\n",
            " [1 0 1 0 1 0 1 0]\n",
            " [0 1 0 1 0 1 0 1]\n",
            " [1 0 1 0 1 0 1 0]]\n"
          ]
        }
      ],
      "source": [
        "a=np.zeros((8,8),dtype=int)\n",
        "a[1::2,::2]=1\n",
        "a[::2,1::2]=1\n",
        "print(a)"
      ]
    },
    {
      "cell_type": "markdown",
      "metadata": {
        "id": "2mYs97d5Bjqb"
      },
      "source": [
        "#### 20. Consider a (6,7,8) shape array, what is the index (x,y,z) of the 100th element? \n",
        "(**hint**: np.unravel_index)"
      ]
    },
    {
      "cell_type": "code",
      "execution_count": null,
      "metadata": {
        "id": "u7nwKj2rBjqc",
        "outputId": "d5e09be2-dd57-4c5c-f133-135a0a1a7413",
        "colab": {
          "base_uri": "https://localhost:8080/"
        }
      },
      "outputs": [
        {
          "output_type": "stream",
          "name": "stdout",
          "text": [
            "(1, 5, 4)\n"
          ]
        }
      ],
      "source": [
        "print(np.unravel_index(100,(6,7,8)))"
      ]
    },
    {
      "cell_type": "markdown",
      "metadata": {
        "id": "GgjPf9Y7Bjqc"
      },
      "source": [
        "#### 21. Create a checkerboard 8x8 matrix using the tile function (★☆☆) \n",
        "(**hint**: np.tile)"
      ]
    },
    {
      "cell_type": "code",
      "execution_count": null,
      "metadata": {
        "id": "zUpIE5WlBjqd",
        "outputId": "9a4a05f0-9bc9-4aed-d424-0e2e212fe44d",
        "colab": {
          "base_uri": "https://localhost:8080/"
        }
      },
      "outputs": [
        {
          "output_type": "execute_result",
          "data": {
            "text/plain": [
              "array([[0, 1, 0, 1, 0, 1, 0, 1],\n",
              "       [0, 1, 0, 1, 0, 1, 0, 1],\n",
              "       [0, 1, 0, 1, 0, 1, 0, 1],\n",
              "       [0, 1, 0, 1, 0, 1, 0, 1],\n",
              "       [0, 1, 0, 1, 0, 1, 0, 1],\n",
              "       [0, 1, 0, 1, 0, 1, 0, 1],\n",
              "       [0, 1, 0, 1, 0, 1, 0, 1],\n",
              "       [0, 1, 0, 1, 0, 1, 0, 1]])"
            ]
          },
          "metadata": {},
          "execution_count": 68
        }
      ],
      "source": [
        "a=np.array([[0,1],[0,1]])\n",
        "np.tile(a,(4,4))"
      ]
    },
    {
      "cell_type": "markdown",
      "metadata": {
        "id": "PO34Rs42Bjqe"
      },
      "source": [
        "#### 22. Normalize a 5x5 random matrix (★☆☆) \n",
        "(**hint**: (x - min) / (max - min))"
      ]
    },
    {
      "cell_type": "code",
      "execution_count": null,
      "metadata": {
        "id": "IbQWt1E-Bjqe",
        "outputId": "c9a1aa1b-1863-48b3-b219-467ffdb9b561",
        "colab": {
          "base_uri": "https://localhost:8080/"
        }
      },
      "outputs": [
        {
          "output_type": "stream",
          "name": "stdout",
          "text": [
            "[[0.04240395 0.32812733 0.53248655 0.62874949 0.43448156]\n",
            " [0.62392783 0.98184518 1.         0.12042213 0.08230226]\n",
            " [0.16212753 0.23007175 0.36767455 0.31880305 0.        ]\n",
            " [0.15410085 0.53476559 0.90136857 0.15505101 0.9690265 ]\n",
            " [0.32201071 0.45633288 0.93206871 0.68699125 0.23998674]]\n"
          ]
        }
      ],
      "source": [
        "a=np.random.random((5,5))\n",
        "z=(a-a.min())/(a.max()-a.min())\n",
        "print(z)"
      ]
    },
    {
      "cell_type": "markdown",
      "metadata": {
        "id": "aS-bJ_ciBjqf"
      },
      "source": [
        "#### 23. Create a custom dtype that describes a color as four unsigned bytes (RGBA) (★☆☆) \n",
        "(**hint**: np.dtype)"
      ]
    },
    {
      "cell_type": "code",
      "execution_count": null,
      "metadata": {
        "collapsed": true,
        "id": "tS7QmoxGBjqg",
        "outputId": "4e28fd60-2c8d-46f7-830d-f8bceb00f653",
        "colab": {
          "base_uri": "https://localhost:8080/"
        }
      },
      "outputs": [
        {
          "output_type": "execute_result",
          "data": {
            "text/plain": [
              "dtype([('R', 'u1', (1,)), ('G', 'u1', (1,)), ('B', 'u1', (1,)), ('A', 'u1', (1,))])"
            ]
          },
          "metadata": {},
          "execution_count": 78
        }
      ],
      "source": [
        "color = np.dtype([(\"R\", np.ubyte, (1,)),\n",
        "                  (\"G\", np.ubyte, (1,)),\n",
        "                  (\"B\", np.ubyte, (1,)),\n",
        "                  (\"A\", np.ubyte, (1,))])\n",
        "color"
      ]
    },
    {
      "cell_type": "markdown",
      "metadata": {
        "id": "zm_JTN8ABjqg"
      },
      "source": [
        "#### 24. Multiply a 5x3 matrix by a 3x2 matrix (real matrix product) (★☆☆) \n",
        "(**hint**: np.dot | @)"
      ]
    },
    {
      "cell_type": "code",
      "execution_count": null,
      "metadata": {
        "id": "qt0pEkBDBjqh",
        "outputId": "cb6c6df8-52b6-475f-e957-13cd542cadd3",
        "colab": {
          "base_uri": "https://localhost:8080/"
        }
      },
      "outputs": [
        {
          "output_type": "execute_result",
          "data": {
            "text/plain": [
              "array([[3, 3],\n",
              "       [3, 3],\n",
              "       [3, 3],\n",
              "       [3, 3],\n",
              "       [3, 3]])"
            ]
          },
          "metadata": {},
          "execution_count": 80
        }
      ],
      "source": [
        "a=np.ones((5,3),dtype=int)\n",
        "b=np.ones((3,2),dtype=int)\n",
        "c=np.dot(a,b)\n",
        "c"
      ]
    },
    {
      "cell_type": "markdown",
      "metadata": {
        "id": "O1re31_sBjqh"
      },
      "source": [
        "#### 25. Given a 1D array, negate all elements which are between 3 and 8, in place. (★☆☆) \n",
        "(**hint**: >, <=)"
      ]
    },
    {
      "cell_type": "code",
      "execution_count": null,
      "metadata": {
        "id": "Hh5jkfNrBjqi",
        "outputId": "539a8cfa-321c-431d-d64c-e216485de055",
        "colab": {
          "base_uri": "https://localhost:8080/"
        }
      },
      "outputs": [
        {
          "output_type": "stream",
          "name": "stdout",
          "text": [
            "[ 0  1  2 -1 -1 -1 -1 -1 -1  9 10]\n"
          ]
        }
      ],
      "source": [
        "a=np.arange(11)\n",
        "a[(a>=3)&(a<=8)]=-1\n",
        "print(a)"
      ]
    },
    {
      "cell_type": "markdown",
      "metadata": {
        "id": "feDqxtHqBjqm"
      },
      "source": [
        "#### 26. What is the output of the following script? (★☆☆) \n",
        "(**hint**: np.sum)"
      ]
    },
    {
      "cell_type": "markdown",
      "metadata": {
        "id": "ceea9BoNBjqn"
      },
      "source": [
        "```python\n",
        "# Author: Jake VanderPlas\n",
        "\n",
        "print(sum(range(5),-1))\n",
        "from numpy import *\n",
        "print(sum(range(5),-1))\n",
        "```"
      ]
    },
    {
      "cell_type": "code",
      "execution_count": null,
      "metadata": {
        "id": "28M4Z2dmBjqo"
      },
      "outputs": [],
      "source": [
        "9\n",
        "10"
      ]
    },
    {
      "cell_type": "markdown",
      "metadata": {
        "id": "9V-7eidqBjqp"
      },
      "source": [
        "#### 27. Consider an integer vector Z, which of these expressions are legal? (★☆☆)"
      ]
    },
    {
      "cell_type": "markdown",
      "metadata": {
        "id": "UAHNMmzIBjqp"
      },
      "source": [
        "```python\n",
        "Z**Z\n",
        "2 << Z >> 2\n",
        "Z <- Z\n",
        "1j*Z\n",
        "Z/1/1\n",
        "Z<Z>Z\n",
        "```"
      ]
    },
    {
      "cell_type": "code",
      "execution_count": null,
      "metadata": {
        "id": "trRgVxFEBjqq"
      },
      "outputs": [],
      "source": [
        "Z**Z\n",
        "2 << Z >> 2\n",
        "Z <- Z\n",
        "1j*Z\n",
        "Z/1/1"
      ]
    },
    {
      "cell_type": "markdown",
      "metadata": {
        "id": "9U1zMoLYBjqq"
      },
      "source": [
        "#### 28. What are the result of the following expressions?"
      ]
    },
    {
      "cell_type": "markdown",
      "metadata": {
        "id": "B3qgPUG8Bjqr"
      },
      "source": [
        "```python\n",
        "np.array(0) / np.array(0)\n",
        "np.array(0) // np.array(0)\n",
        "np.array([np.nan]).astype(int).astype(float)\n",
        "```"
      ]
    },
    {
      "cell_type": "code",
      "execution_count": null,
      "metadata": {
        "id": "UcM06IVaBjqr"
      },
      "outputs": [],
      "source": [
        "nan\n",
        "0\n",
        "[9.22337204e+18]"
      ]
    },
    {
      "cell_type": "markdown",
      "metadata": {
        "id": "h4dd9tPqBjqs"
      },
      "source": [
        "#### 29. How to round away from zero a float array ? (★☆☆) \n",
        "(**hint**: np.uniform, np.copysign, np.ceil, np.abs)"
      ]
    },
    {
      "cell_type": "code",
      "execution_count": null,
      "metadata": {
        "id": "32qI9NxuBjqs",
        "colab": {
          "base_uri": "https://localhost:8080/"
        },
        "outputId": "7a3cd173-83be-49af-9396-ba5b67ea3011"
      },
      "outputs": [
        {
          "output_type": "stream",
          "name": "stdout",
          "text": [
            "[  9.  -6.   3.  -4. -10.   2.  -9.  -6.  -7.   3.]\n"
          ]
        }
      ],
      "source": [
        "a = np.random.uniform(-10, +10, 10)\n",
        "print(np.copysign(np.ceil(np.abs(a)), a))\n"
      ]
    },
    {
      "cell_type": "markdown",
      "metadata": {
        "id": "Ae3P4YlzBjqs"
      },
      "source": [
        "#### 30. How to find common values between two arrays? (★☆☆) \n",
        "(**hint**: np.intersect1d)"
      ]
    },
    {
      "cell_type": "code",
      "execution_count": null,
      "metadata": {
        "id": "ZD5_Ji-eBjqt",
        "colab": {
          "base_uri": "https://localhost:8080/"
        },
        "outputId": "e799e5c7-9c62-424c-b1ba-91677c35c121"
      },
      "outputs": [
        {
          "output_type": "stream",
          "name": "stdout",
          "text": [
            "[5 7 8]\n"
          ]
        }
      ],
      "source": [
        "a=np.random.randint(0,10,10)\n",
        "b=np.random.randint(5,10,10)\n",
        "print(np.intersect1d(a,b))"
      ]
    },
    {
      "cell_type": "markdown",
      "metadata": {
        "id": "HhR7fEI3Bjqt"
      },
      "source": [
        "#### 31. How to ignore all numpy warnings (not recommended)? (★☆☆) \n",
        "(**hint**: np.seterr, np.errstate)"
      ]
    },
    {
      "cell_type": "code",
      "execution_count": null,
      "metadata": {
        "id": "gAc1eplLBjqu",
        "colab": {
          "base_uri": "https://localhost:8080/"
        },
        "outputId": "36736773-b5b1-4c9c-ec6c-21b0c86c688b"
      },
      "outputs": [
        {
          "output_type": "execute_result",
          "data": {
            "text/plain": [
              "array([inf, inf, inf])"
            ]
          },
          "metadata": {},
          "execution_count": 21
        }
      ],
      "source": [
        "np.seterr(all=\"ignore\")\n",
        "np.ones(3)/0"
      ]
    },
    {
      "cell_type": "markdown",
      "metadata": {
        "id": "k7PqHBmeBjqu"
      },
      "source": [
        "#### 32. Is the following expressions true? (★☆☆) \n",
        "(**hint**: imaginary number)"
      ]
    },
    {
      "cell_type": "markdown",
      "metadata": {
        "id": "2CsjzQAlBjqv"
      },
      "source": [
        "```python\n",
        "np.sqrt(-1) == np.emath.sqrt(-1)\n",
        "```"
      ]
    },
    {
      "cell_type": "code",
      "execution_count": null,
      "metadata": {
        "id": "VRS4xbmABjqw"
      },
      "outputs": [],
      "source": [
        "False"
      ]
    },
    {
      "cell_type": "markdown",
      "metadata": {
        "id": "co73ubwuBjqy"
      },
      "source": [
        "#### 33. How to get the dates of yesterday, today and tomorrow? (★☆☆) \n",
        "(**hint**: np.datetime64, np.timedelta64)"
      ]
    },
    {
      "cell_type": "code",
      "execution_count": null,
      "metadata": {
        "collapsed": true,
        "id": "c8t9jbsEBjqz",
        "colab": {
          "base_uri": "https://localhost:8080/"
        },
        "outputId": "7470d473-283e-447b-c4b4-7034f01e3e58"
      },
      "outputs": [
        {
          "output_type": "stream",
          "name": "stdout",
          "text": [
            "today 2022-02-12 yesterday 2022-02-11 tomorrow 2022-02-13\n"
          ]
        }
      ],
      "source": [
        "today=np.datetime64('today','D')\n",
        "yesterday=today - np.timedelta64(1,'D')\n",
        "tomorrow=today + np.timedelta64(1,'D')\n",
        "print(f\"today {today} yesterday {yesterday} tomorrow {tomorrow}\")"
      ]
    },
    {
      "cell_type": "markdown",
      "metadata": {
        "id": "WZgIB3bZBjq1"
      },
      "source": [
        "#### 34. How to get all the dates corresponding to the month of July 2016? (★★☆) \n",
        "(**hint**: np.arange(dtype=datetime64\\['D'\\]))"
      ]
    },
    {
      "cell_type": "code",
      "execution_count": null,
      "metadata": {
        "id": "b4BRwjyaBjq2",
        "colab": {
          "base_uri": "https://localhost:8080/"
        },
        "outputId": "19d79c28-9c6f-4633-ad1c-42bdf3c24f1b"
      },
      "outputs": [
        {
          "output_type": "stream",
          "name": "stdout",
          "text": [
            "['2021-07-01' '2021-07-02' '2021-07-03' '2021-07-04' '2021-07-05'\n",
            " '2021-07-06' '2021-07-07' '2021-07-08' '2021-07-09' '2021-07-10'\n",
            " '2021-07-11' '2021-07-12' '2021-07-13' '2021-07-14' '2021-07-15'\n",
            " '2021-07-16' '2021-07-17' '2021-07-18' '2021-07-19' '2021-07-20'\n",
            " '2021-07-21' '2021-07-22' '2021-07-23' '2021-07-24' '2021-07-25'\n",
            " '2021-07-26' '2021-07-27' '2021-07-28' '2021-07-29' '2021-07-30'\n",
            " '2021-07-31']\n"
          ]
        }
      ],
      "source": [
        "print(np.arange('2021-07','2021-08',dtype='datetime64[D]'))"
      ]
    },
    {
      "cell_type": "markdown",
      "metadata": {
        "id": "9sa9TyM5Bjq3"
      },
      "source": [
        "#### 35. How to compute ((A+B)\\*(-A/2)) in place (without copy)? (★★☆) \n",
        "(**hint**: np.add(out=), np.negative(out=), np.multiply(out=), np.divide(out=))"
      ]
    },
    {
      "cell_type": "code",
      "execution_count": null,
      "metadata": {
        "id": "nQzE-WC-Bjq3",
        "colab": {
          "base_uri": "https://localhost:8080/"
        },
        "outputId": "ee3b2690-2f89-4ddf-9bb3-677cf7ea20a5"
      },
      "outputs": [
        {
          "output_type": "execute_result",
          "data": {
            "text/plain": [
              "array([-1.5, -1.5, -1.5])"
            ]
          },
          "metadata": {},
          "execution_count": 34
        }
      ],
      "source": [
        "A=np.ones(3)*1\n",
        "B=np.ones(3)*2\n",
        "np.add(A,B,out=B)\n",
        "np.divide(A,2,out=A)\n",
        "np.negative(A,out=A)\n",
        "np.multiply(A,B,out=A)\n"
      ]
    },
    {
      "cell_type": "markdown",
      "metadata": {
        "id": "CshN1OzvBjq3"
      },
      "source": [
        "#### 36. Extract the integer part of a random array using 5 different methods (★★☆) \n",
        "(**hint**: %, np.floor, np.ceil, astype, np.trunc)"
      ]
    },
    {
      "cell_type": "code",
      "execution_count": null,
      "metadata": {
        "id": "CwIKm3w6Bjq4"
      },
      "outputs": [],
      "source": [
        ""
      ]
    },
    {
      "cell_type": "markdown",
      "metadata": {
        "id": "gyjJGGWxBjq4"
      },
      "source": [
        "#### 37. Create a 5x5 matrix with row values ranging from 0 to 4 (★★☆) \n",
        "(**hint**: np.arange)"
      ]
    },
    {
      "cell_type": "code",
      "execution_count": null,
      "metadata": {
        "id": "n_UTfuYpBjq4",
        "colab": {
          "base_uri": "https://localhost:8080/"
        },
        "outputId": "5629d2df-fa73-4a9d-fa8c-9e0e3a48bbd9"
      },
      "outputs": [
        {
          "output_type": "execute_result",
          "data": {
            "text/plain": [
              "array([[0, 1, 2, 3, 4],\n",
              "       [0, 1, 2, 3, 4],\n",
              "       [0, 1, 2, 3, 4],\n",
              "       [0, 1, 2, 3, 4],\n",
              "       [0, 1, 2, 3, 4]])"
            ]
          },
          "metadata": {},
          "execution_count": 37
        }
      ],
      "source": [
        "a=np.zeros((5,5),dtype=int)\n",
        "a+=np.arange(5)\n",
        "a\n"
      ]
    },
    {
      "cell_type": "markdown",
      "metadata": {
        "id": "Wk1loWQHBjq5"
      },
      "source": [
        "#### 38. Consider a generator function that generates 10 integers and use it to build an array (★☆☆) \n",
        "(**hint**: np.fromiter)"
      ]
    },
    {
      "cell_type": "code",
      "execution_count": null,
      "metadata": {
        "id": "zKapaYQkBjq5",
        "colab": {
          "base_uri": "https://localhost:8080/"
        },
        "outputId": "b06a0f55-b100-442f-9e02-9eeae944493b"
      },
      "outputs": [
        {
          "output_type": "stream",
          "name": "stdout",
          "text": [
            "[0 1 2 3 4 5 6 7 8 9]\n"
          ]
        }
      ],
      "source": [
        "def gen_func():\n",
        "  for i in range(10):\n",
        "    yield i\n",
        "print(np.fromiter(gen_func(),dtype=int,count=-1))"
      ]
    },
    {
      "cell_type": "markdown",
      "metadata": {
        "id": "craz95jDBjq6"
      },
      "source": [
        "#### 39. Create a vector of size 10 with values ranging from 0 to 1, both excluded (★★☆) \n",
        "(**hint**: np.linspace)"
      ]
    },
    {
      "cell_type": "code",
      "execution_count": null,
      "metadata": {
        "id": "6LU3_YexBjq6",
        "colab": {
          "base_uri": "https://localhost:8080/"
        },
        "outputId": "5e39c9dd-f64e-44c1-d18f-1516aa880019"
      },
      "outputs": [
        {
          "output_type": "stream",
          "name": "stdout",
          "text": [
            "[0.  0.1 0.2 0.3 0.4 0.5 0.6 0.7 0.8 0.9]\n"
          ]
        }
      ],
      "source": [
        "print(np.linspace(start=0,stop=1,num=10,endpoint=False))"
      ]
    },
    {
      "cell_type": "markdown",
      "metadata": {
        "id": "vhiXTVIuBjq6"
      },
      "source": [
        "#### 40. Create a random vector of size 10 and sort it (★★☆) \n",
        "(**hint**: sort)"
      ]
    },
    {
      "cell_type": "code",
      "execution_count": null,
      "metadata": {
        "id": "wocClPZkBjq7",
        "colab": {
          "base_uri": "https://localhost:8080/"
        },
        "outputId": "27835952-2721-44be-8f5d-b096a478b95a"
      },
      "outputs": [
        {
          "output_type": "stream",
          "name": "stdout",
          "text": [
            "[1 1 2 3 4 7 8 9 9 9]\n"
          ]
        }
      ],
      "source": [
        "a=np.random.randint(10,size=10)\n",
        "a.sort()\n",
        "print(a)"
      ]
    },
    {
      "cell_type": "markdown",
      "metadata": {
        "id": "Y647GzCzBjq7"
      },
      "source": [
        "#### 41. How to sum a small array faster than np.sum? (★★☆) \n",
        "(**hint**: np.add.reduce)"
      ]
    },
    {
      "cell_type": "code",
      "execution_count": null,
      "metadata": {
        "id": "Hl2i1lSABjq7",
        "colab": {
          "base_uri": "https://localhost:8080/"
        },
        "outputId": "e91d513d-8a89-4cc4-d634-8ca5633283e0"
      },
      "outputs": [
        {
          "output_type": "stream",
          "name": "stdout",
          "text": [
            "45\n"
          ]
        }
      ],
      "source": [
        "a=np.arange(10)\n",
        "b=np.add.reduce(a)\n",
        "print(b)"
      ]
    },
    {
      "cell_type": "markdown",
      "metadata": {
        "id": "_0UPMeu8Bjq8"
      },
      "source": [
        "#### 42. Consider two random array A and B, check if they are equal (★★☆) \n",
        "(**hint**: np.allclose, np.array\\_equal)"
      ]
    },
    {
      "cell_type": "code",
      "execution_count": null,
      "metadata": {
        "id": "_NusjXGqBjq8",
        "colab": {
          "base_uri": "https://localhost:8080/"
        },
        "outputId": "b8c7e607-d945-4bbe-d1b6-3b46097dff88"
      },
      "outputs": [
        {
          "output_type": "stream",
          "name": "stdout",
          "text": [
            "True\n"
          ]
        }
      ],
      "source": [
        "a=np.arange(10)\n",
        "b=np.arange(10)\n",
        "print(np.array_equal(a,b))"
      ]
    },
    {
      "cell_type": "markdown",
      "metadata": {
        "id": "y-s_NZ1cBjq9"
      },
      "source": [
        "#### 43. Make an array immutable (read-only) (★★☆) \n",
        "(**hint**: flags.writeable)"
      ]
    },
    {
      "cell_type": "code",
      "execution_count": null,
      "metadata": {
        "id": "dIc90mc1Bjq9"
      },
      "outputs": [],
      "source": [
        "a=np.ones(10)\n",
        "a.flags.writeable=False"
      ]
    },
    {
      "cell_type": "markdown",
      "metadata": {
        "id": "4L8lEBdDBjq9"
      },
      "source": [
        "#### 44. Consider a random 10x2 matrix representing cartesian coordinates, convert them to polar coordinates (★★☆) \n",
        "(**hint**: np.sqrt, np.arctan2)"
      ]
    },
    {
      "cell_type": "code",
      "execution_count": null,
      "metadata": {
        "id": "qqH_y3G5Bjq-",
        "colab": {
          "base_uri": "https://localhost:8080/"
        },
        "outputId": "af494381-5f2d-4e4e-be57-209078789905"
      },
      "outputs": [
        {
          "output_type": "stream",
          "name": "stdout",
          "text": [
            "radius : [0.96218499 0.8959971  1.17080652 1.01452232 0.53181007], theta : [0.42713186 0.00258476 0.97329691 0.75746623 0.30905207]\n"
          ]
        }
      ],
      "source": [
        "a=np.random.random((5,2))\n",
        "x=a[:,0]\n",
        "y=a[:,1]\n",
        "radius=np.sqrt(x**2+y**2)\n",
        "theta=np.arctan(y/x)#tan inverse==arctan\n",
        "print(f\"radius : {radius}, theta : {theta}\")"
      ]
    },
    {
      "cell_type": "markdown",
      "metadata": {
        "id": "S9zJIJ-zBjq-"
      },
      "source": [
        "#### 45. Create random vector of size 10 and replace the maximum value by 0 (★★☆) \n",
        "(**hint**: argmax)"
      ]
    },
    {
      "cell_type": "code",
      "execution_count": null,
      "metadata": {
        "id": "Y5Fd4EbTBjq_",
        "colab": {
          "base_uri": "https://localhost:8080/"
        },
        "outputId": "5a9dc057-551c-412a-c40d-debeb32e0200"
      },
      "outputs": [
        {
          "output_type": "stream",
          "name": "stdout",
          "text": [
            "[24 35 20 34 35 46 26 27 44 47]\n",
            "modified a : [24 35 20 34 35 46 26 27 44  0]\n"
          ]
        }
      ],
      "source": [
        "a=np.random.randint(20,50,10)\n",
        "print(a)\n",
        "a[np.argmax(a)]=0\n",
        "print(\"modified a :\",a)\n",
        "\n"
      ]
    },
    {
      "cell_type": "markdown",
      "metadata": {
        "id": "Ueet8KLLBjq_"
      },
      "source": [
        "#### 46. Create a structured array with `x` and `y` coordinates covering the \\[0,1\\]x\\[0,1\\] area (★★☆) \n",
        "(**hint**: np.meshgrid)"
      ]
    },
    {
      "cell_type": "code",
      "execution_count": null,
      "metadata": {
        "id": "J1m41esmBjq_",
        "colab": {
          "base_uri": "https://localhost:8080/"
        },
        "outputId": "74bc772a-816b-4d3a-8f3b-7ad274abd9dc"
      },
      "outputs": [
        {
          "output_type": "stream",
          "name": "stdout",
          "text": [
            "[[(0.  , 0.  ) (0.25, 0.  ) (0.5 , 0.  ) (0.75, 0.  ) (1.  , 0.  )]\n",
            " [(0.  , 0.25) (0.25, 0.25) (0.5 , 0.25) (0.75, 0.25) (1.  , 0.25)]\n",
            " [(0.  , 0.5 ) (0.25, 0.5 ) (0.5 , 0.5 ) (0.75, 0.5 ) (1.  , 0.5 )]\n",
            " [(0.  , 0.75) (0.25, 0.75) (0.5 , 0.75) (0.75, 0.75) (1.  , 0.75)]\n",
            " [(0.  , 1.  ) (0.25, 1.  ) (0.5 , 1.  ) (0.75, 1.  ) (1.  , 1.  )]]\n"
          ]
        }
      ],
      "source": [
        "a = np.zeros((5, 5), [('x', float), ('y', float)])\n",
        "a['x'], a['y'] = np.meshgrid(np.linspace(0, 1, 5), np.linspace(0, 1, 5))\n",
        "print(a)\n"
      ]
    },
    {
      "cell_type": "markdown",
      "metadata": {
        "id": "L0v9GIeBBjrA"
      },
      "source": [
        "####  47. Given two arrays, X and Y, construct the Cauchy matrix C (Cij =1/(xi - yj)) \n",
        "(**hint**: np.subtract.outer)"
      ]
    },
    {
      "cell_type": "code",
      "execution_count": null,
      "metadata": {
        "id": "dWiyTvl1BjrA",
        "colab": {
          "base_uri": "https://localhost:8080/"
        },
        "outputId": "a6b2a6c9-2245-49cf-cf5c-959b20a3ae17"
      },
      "outputs": [
        {
          "output_type": "stream",
          "name": "stdout",
          "text": [
            "[[ 8.72241922e+04  3.21901673e+04 -9.54269042e+04  2.21842989e+04\n",
            "  -2.86700703e+03]\n",
            " [-3.45051306e+04  2.68454070e+07 -9.91166461e+04 -5.51432156e+05\n",
            "  -2.89071305e+06]\n",
            " [ 1.70214668e+05 -5.36778742e+03  4.88685215e+04 -5.77150506e+04\n",
            "   5.57478852e+05]\n",
            " [-1.39858698e+08  2.98025560e+04 -1.58677671e+05 -3.30326906e+04\n",
            "  -2.33818370e+05]\n",
            " [-2.48905215e+05 -1.91358150e+05  7.37795610e+05 -9.50528071e+05\n",
            "  -5.18134478e+04]]\n"
          ]
        }
      ],
      "source": [
        "a=np.random.random((5,5))\n",
        "b=np.random.random((5,5))\n",
        "c=1/(np.subtract.outer(a,b))\n",
        "print(np.linalg.det(c))"
      ]
    },
    {
      "cell_type": "markdown",
      "metadata": {
        "id": "ZuFd93z1BjrB"
      },
      "source": [
        "#### 48. Print the minimum and maximum representable value for each numpy scalar type (★★☆) \n",
        "(**hint**: np.iinfo, np.finfo, eps)"
      ]
    },
    {
      "cell_type": "code",
      "execution_count": null,
      "metadata": {
        "id": "0dMuhTZlBjrB",
        "colab": {
          "base_uri": "https://localhost:8080/"
        },
        "outputId": "3f0ea672-4fb8-4b91-cdb8-86f809cbdfee"
      },
      "outputs": [
        {
          "output_type": "stream",
          "name": "stdout",
          "text": [
            "min of <class 'numpy.int32'> is -2147483648\n",
            "max of <class 'numpy.int32'> is 2147483647\n",
            "min of <class 'numpy.int64'> is -9223372036854775808\n",
            "max of <class 'numpy.int64'> is 9223372036854775807\n",
            " \n",
            "min of <class 'numpy.float32'> is -3.4028234663852886e+38\n",
            "max of <class 'numpy.float32'> is 3.4028234663852886e+38\n",
            "min of <class 'numpy.float64'> is -1.7976931348623157e+308\n",
            "max of <class 'numpy.float64'> is 1.7976931348623157e+308\n"
          ]
        }
      ],
      "source": [
        "a=[np.int32,np.int64]\n",
        "for i in a:\n",
        "  print(f\"min of {i} is {np.iinfo(i).min}\")\n",
        "  print(f\"max of {i} is {np.iinfo(i).max}\")\n",
        "print(\" \")\n",
        "b=[np.float32,np.float64]\n",
        "for i in b:\n",
        "  print(f\"min of {i} is {np.finfo(i).min}\")\n",
        "  print(f\"max of {i} is {np.finfo(i).max}\")\n"
      ]
    },
    {
      "cell_type": "markdown",
      "metadata": {
        "id": "y9UhNfUTBjrC"
      },
      "source": [
        "#### 49. How to print all the values of an array? (★★☆) \n",
        "(**hint**: np.set\\_printoptions)"
      ]
    },
    {
      "cell_type": "code",
      "execution_count": null,
      "metadata": {
        "id": "pbYeIKgkBjrH",
        "colab": {
          "base_uri": "https://localhost:8080/"
        },
        "outputId": "d42ec06c-de9a-487c-b4c1-a52508a46474"
      },
      "outputs": [
        {
          "output_type": "execute_result",
          "data": {
            "text/plain": [
              "array([[0., 0., 0., 0., 0.],\n",
              "       [0., 0., 0., 0., 0.],\n",
              "       [0., 0., 0., 0., 0.],\n",
              "       [0., 0., 0., 0., 0.],\n",
              "       [0., 0., 0., 0., 0.]])"
            ]
          },
          "metadata": {},
          "execution_count": 3
        }
      ],
      "source": [
        "np.set_printoptions(threshold=float(\"inf\"))\n",
        "a=np.zeros((5,5))\n",
        "a"
      ]
    },
    {
      "cell_type": "markdown",
      "metadata": {
        "id": "XSeNQ2I9BjrI"
      },
      "source": [
        "#### 50. How to find the closest value (to a given scalar) in a vector? (★★☆) \n",
        "(**hint**: argmin)"
      ]
    },
    {
      "cell_type": "code",
      "execution_count": null,
      "metadata": {
        "id": "YB6z5_5PBjrI",
        "colab": {
          "base_uri": "https://localhost:8080/"
        },
        "outputId": "cb830042-ddce-4e80-f03a-5ef050a3f7db"
      },
      "outputs": [
        {
          "output_type": "stream",
          "name": "stdout",
          "text": [
            "4\n"
          ]
        }
      ],
      "source": [
        "a=np.arange(10)\n",
        "b=np.random.uniform(0,10)\n",
        "i=np.abs(a-b).argmin()\n",
        "print(a[i])\n",
        "\n"
      ]
    },
    {
      "cell_type": "markdown",
      "metadata": {
        "id": "Mnv0ju7UBjrI"
      },
      "source": [
        "#### 51. Create a structured array representing a position (x,y) and a color (r,g,b) (★★☆) \n",
        "(**hint**: dtype)"
      ]
    },
    {
      "cell_type": "code",
      "execution_count": null,
      "metadata": {
        "id": "t-Chyn0UBjrJ",
        "colab": {
          "base_uri": "https://localhost:8080/"
        },
        "outputId": "df3c6f1f-ed3d-42c8-b5d0-1266a7b4e962"
      },
      "outputs": [
        {
          "output_type": "stream",
          "name": "stdout",
          "text": [
            "[((0., 0.), (0., 0., 0.)) ((0., 0.), (0., 0., 0.))\n",
            " ((0., 0.), (0., 0., 0.)) ((0., 0.), (0., 0., 0.))\n",
            " ((0., 0.), (0., 0., 0.)) ((0., 0.), (0., 0., 0.))\n",
            " ((0., 0.), (0., 0., 0.)) ((0., 0.), (0., 0., 0.))\n",
            " ((0., 0.), (0., 0., 0.)) ((0., 0.), (0., 0., 0.))]\n"
          ]
        },
        {
          "output_type": "stream",
          "name": "stderr",
          "text": [
            "/usr/local/lib/python3.7/dist-packages/ipykernel_launcher.py:5: FutureWarning: Passing (type, 1) or '1type' as a synonym of type is deprecated; in a future version of numpy, it will be understood as (type, (1,)) / '(1,)type'.\n",
            "  \"\"\"\n"
          ]
        }
      ],
      "source": [
        "a= np.zeros(10, [ ('position', [ ('x', float, 1),\n",
        "                                  ('y', float, 1)]),\n",
        "                   ('color',    [ ('r', float, 1),\n",
        "                                  ('g', float, 1),\n",
        "                                  ('b', float, 1)])])\n",
        "print(a)"
      ]
    },
    {
      "cell_type": "markdown",
      "metadata": {
        "id": "p3CE4qT8BjrK"
      },
      "source": [
        "#### 52. Consider a random vector with shape (100,2) representing coordinates, find point by point distances (★★☆) \n",
        "(**hint**: np.atleast\\_2d, T, np.sqrt)"
      ]
    },
    {
      "cell_type": "code",
      "execution_count": null,
      "metadata": {
        "id": "nzrPLSWkBjrK",
        "colab": {
          "base_uri": "https://localhost:8080/"
        },
        "outputId": "90a99b6c-4569-4c40-b0bf-c3b9044d00c2"
      },
      "outputs": [
        {
          "output_type": "stream",
          "name": "stdout",
          "text": [
            "[[0.         0.22360135 0.23621747 ... 0.85711094 0.27236733 0.34223719]\n",
            " [0.22360135 0.         0.45944549 ... 0.92285474 0.49389598 0.46560282]\n",
            " [0.23621747 0.45944549 0.         ... 0.82930738 0.07602286 0.32911009]\n",
            " ...\n",
            " [0.85711094 0.92285474 0.82930738 ... 0.         0.90143058 0.5216334 ]\n",
            " [0.27236733 0.49389598 0.07602286 ... 0.90143058 0.         0.40505066]\n",
            " [0.34223719 0.46560282 0.32911009 ... 0.5216334  0.40505066 0.        ]]\n"
          ]
        }
      ],
      "source": [
        "a=np.random.random((100,2))\n",
        "b=np.atleast_2d(a[:,0])\n",
        "c=np.atleast_2d(a[:,1])\n",
        "d=np.sqrt((b-b.T)**2 + (c-c.T)**2)\n",
        "print(d)"
      ]
    },
    {
      "cell_type": "markdown",
      "metadata": {
        "id": "95vM1uxdBjrL"
      },
      "source": [
        "#### 53. How to convert a float (32 bits) array into an integer (32 bits) in place? \n",
        "(**hint**: astype(copy=False))"
      ]
    },
    {
      "cell_type": "code",
      "execution_count": null,
      "metadata": {
        "id": "vileh85iBjrL",
        "colab": {
          "base_uri": "https://localhost:8080/"
        },
        "outputId": "929598bf-c86b-4804-fff9-b9146558c553"
      },
      "outputs": [
        {
          "output_type": "stream",
          "name": "stdout",
          "text": [
            "[1317373992 1317340856 1317316264 1317152461 1317183194 1317289121\n",
            " 1317276897 1317330966 1317317634 1317359892]\n"
          ]
        }
      ],
      "source": [
        "a=(np.random.rand(10)*100).astype(np.float32)\n",
        "b=a.view(np.int32)\n",
        "print(b)"
      ]
    },
    {
      "cell_type": "markdown",
      "metadata": {
        "id": "zRVqsHggBjrL"
      },
      "source": [
        "#### 54. How to read the following file? (★★☆) \n",
        "(**hint**: np.genfromtxt)"
      ]
    },
    {
      "cell_type": "markdown",
      "metadata": {
        "id": "31C9JxMoBjrM"
      },
      "source": [
        "```\n",
        "1, 2, 3, 4, 5\n",
        "6,  ,  , 7, 8\n",
        " ,  , 9,10,11\n",
        "```"
      ]
    },
    {
      "cell_type": "code",
      "execution_count": null,
      "metadata": {
        "id": "VxTHtnaqBjrM",
        "colab": {
          "base_uri": "https://localhost:8080/"
        },
        "outputId": "e44e4eda-b964-4921-dc55-caa847db625e"
      },
      "outputs": [
        {
          "output_type": "stream",
          "name": "stdout",
          "text": [
            "[[ 1  2  3  4  5]\n",
            " [ 6 -1 -1  7  8]\n",
            " [-1 -1  9 10 11]]\n"
          ]
        }
      ],
      "source": [
        "from io import StringIO\n",
        "a=StringIO(\"\"\"1, 2, 3, 4, 5\n",
        "6,  ,  , 7, 8\n",
        " ,  , 9,10,11\"\"\")\n",
        "b=np.genfromtxt(a,delimiter=\",\",dtype=int)\n",
        "print(b)"
      ]
    },
    {
      "cell_type": "markdown",
      "metadata": {
        "id": "1VyVvdZIBjrN"
      },
      "source": [
        "#### 55. What is the equivalent of enumerate for numpy arrays? (★★☆) \n",
        "(**hint**: np.ndenumerate, np.ndindex)"
      ]
    },
    {
      "cell_type": "code",
      "execution_count": null,
      "metadata": {
        "id": "JWySAbjyBjrN",
        "colab": {
          "base_uri": "https://localhost:8080/"
        },
        "outputId": "3923b7cb-b32d-48d8-a148-362a214e1652"
      },
      "outputs": [
        {
          "output_type": "stream",
          "name": "stdout",
          "text": [
            "(0, 0) 0\n",
            "(0, 1) 1\n",
            "(0, 2) 2\n",
            "(1, 0) 3\n",
            "(1, 1) 4\n",
            "(1, 2) 5\n",
            "(2, 0) 6\n",
            "(2, 1) 7\n",
            "(2, 2) 8\n",
            " \n",
            "(0, 0) 0\n",
            "(0, 1) 1\n",
            "(0, 2) 2\n",
            "(1, 0) 3\n",
            "(1, 1) 4\n",
            "(1, 2) 5\n",
            "(2, 0) 6\n",
            "(2, 1) 7\n",
            "(2, 2) 8\n"
          ]
        }
      ],
      "source": [
        "a=np.arange(9).reshape(3,3)\n",
        "for i,j in np.ndenumerate(a):\n",
        "  print(i,j)\n",
        "print(\" \")\n",
        "for i in np.ndindex(a.shape):\n",
        "  print(i,a[i])\n"
      ]
    },
    {
      "cell_type": "markdown",
      "metadata": {
        "id": "27UWQEuTBjrO"
      },
      "source": [
        "#### 56. Generate a generic 2D Gaussian-like array (★★☆) \n",
        "(**hint**: np.meshgrid, np.exp)"
      ]
    },
    {
      "cell_type": "code",
      "execution_count": null,
      "metadata": {
        "id": "WAOV0R2sBjrO",
        "colab": {
          "base_uri": "https://localhost:8080/"
        },
        "outputId": "0639db74-f883-4e74-b62f-7685f3c363c5"
      },
      "outputs": [
        {
          "output_type": "stream",
          "name": "stdout",
          "text": [
            "[[0.36787944 0.44822088 0.51979489 0.57375342 0.60279818 0.60279818\n",
            "  0.57375342 0.51979489 0.44822088 0.36787944]\n",
            " [0.44822088 0.54610814 0.63331324 0.69905581 0.73444367 0.73444367\n",
            "  0.69905581 0.63331324 0.54610814 0.44822088]\n",
            " [0.51979489 0.63331324 0.73444367 0.81068432 0.85172308 0.85172308\n",
            "  0.81068432 0.73444367 0.63331324 0.51979489]\n",
            " [0.57375342 0.69905581 0.81068432 0.89483932 0.9401382  0.9401382\n",
            "  0.89483932 0.81068432 0.69905581 0.57375342]\n",
            " [0.60279818 0.73444367 0.85172308 0.9401382  0.98773022 0.98773022\n",
            "  0.9401382  0.85172308 0.73444367 0.60279818]\n",
            " [0.60279818 0.73444367 0.85172308 0.9401382  0.98773022 0.98773022\n",
            "  0.9401382  0.85172308 0.73444367 0.60279818]\n",
            " [0.57375342 0.69905581 0.81068432 0.89483932 0.9401382  0.9401382\n",
            "  0.89483932 0.81068432 0.69905581 0.57375342]\n",
            " [0.51979489 0.63331324 0.73444367 0.81068432 0.85172308 0.85172308\n",
            "  0.81068432 0.73444367 0.63331324 0.51979489]\n",
            " [0.44822088 0.54610814 0.63331324 0.69905581 0.73444367 0.73444367\n",
            "  0.69905581 0.63331324 0.54610814 0.44822088]\n",
            " [0.36787944 0.44822088 0.51979489 0.57375342 0.60279818 0.60279818\n",
            "  0.57375342 0.51979489 0.44822088 0.36787944]]\n"
          ]
        }
      ],
      "source": [
        "a,b= np.meshgrid(np.linspace(-1,1,10), np.linspace(-1,1,10))\n",
        "c= np.sqrt(a*a+b*b)\n",
        "sigma, mu = 1.0, 0.0\n",
        "d= np.exp(-( (c-mu)**2 / ( 2.0 * sigma**2 ) ) )\n",
        "print(d)"
      ]
    },
    {
      "cell_type": "markdown",
      "metadata": {
        "id": "VpOO1H-2BjrP"
      },
      "source": [
        "#### 57. How to randomly place p elements in a 2D array? (★★☆) \n",
        "(**hint**: np.put, np.random.choice)"
      ]
    },
    {
      "cell_type": "code",
      "execution_count": null,
      "metadata": {
        "id": "Oqq6un-XBjrQ",
        "colab": {
          "base_uri": "https://localhost:8080/"
        },
        "outputId": "c1645c6a-11c7-44ef-f6f5-5de80e8143ef"
      },
      "outputs": [
        {
          "output_type": "stream",
          "name": "stdout",
          "text": [
            "[[0. 0. 0. 0. 0. 0. 0. 0. 0. 0.]\n",
            " [0. 0. 0. 0. 0. 0. 0. 1. 0. 0.]\n",
            " [0. 0. 0. 0. 0. 0. 0. 0. 0. 0.]\n",
            " [0. 0. 0. 0. 0. 0. 0. 0. 0. 0.]\n",
            " [0. 0. 0. 0. 0. 1. 0. 0. 0. 0.]\n",
            " [0. 0. 0. 0. 0. 0. 0. 0. 0. 0.]\n",
            " [0. 0. 0. 0. 0. 0. 0. 0. 0. 0.]\n",
            " [0. 0. 0. 0. 0. 0. 0. 0. 0. 0.]\n",
            " [0. 0. 0. 1. 0. 0. 0. 0. 0. 0.]\n",
            " [0. 0. 0. 0. 0. 0. 0. 0. 0. 0.]]\n"
          ]
        }
      ],
      "source": [
        "p = 3\n",
        "a= np.zeros((10,10))\n",
        "np.put(a, np.random.choice(range(10*10), p, replace=False),1)\n",
        "print(a)"
      ]
    },
    {
      "cell_type": "markdown",
      "metadata": {
        "id": "iv3-ydYrBjrQ"
      },
      "source": [
        "#### 58. Subtract the mean of each row of a matrix (★★☆) \n",
        "(**hint**: mean(axis=,keepdims=))"
      ]
    },
    {
      "cell_type": "code",
      "execution_count": null,
      "metadata": {
        "id": "HRINhxr0BjrR",
        "colab": {
          "base_uri": "https://localhost:8080/"
        },
        "outputId": "e7ecff58-9012-40f9-d2d5-619658a2f5c6"
      },
      "outputs": [
        {
          "output_type": "stream",
          "name": "stdout",
          "text": [
            "[[ 0.18903134  0.29727751 -0.36637053 -0.00613364 -0.08163708  0.43939199\n",
            "  -0.41760511 -0.10945562  0.01260139  0.04289975]\n",
            " [ 0.22196223 -0.12001762 -0.50294298  0.16678998 -0.30349917  0.43486969\n",
            "   0.20818794  0.35497893 -0.34506056 -0.11526845]\n",
            " [ 0.11147904 -0.5138559  -0.56755961 -0.11348854  0.26958203  0.22071443\n",
            "   0.13290988 -0.16106373  0.33746118  0.28382123]\n",
            " [ 0.3568916  -0.10011714  0.34380954  0.32477814 -0.32060245 -0.24668009\n",
            "  -0.27713972 -0.31406163  0.15140641  0.08171535]\n",
            " [-0.49419741  0.05173425  0.3740313  -0.17464764 -0.1646214   0.40372163\n",
            "  -0.07929245  0.11916094  0.40145385 -0.43734307]]\n"
          ]
        }
      ],
      "source": [
        "a=np.random.rand(5,10)\n",
        "b=a-a.mean(axis=1,keepdims=True)\n",
        "print(b)"
      ]
    },
    {
      "cell_type": "markdown",
      "metadata": {
        "id": "86sPPwmwBjrR"
      },
      "source": [
        "#### 59. How to sort an array by the nth column? (★★☆) \n",
        "(**hint**: argsort)"
      ]
    },
    {
      "cell_type": "code",
      "execution_count": null,
      "metadata": {
        "id": "GoE7WKCsBjrR",
        "colab": {
          "base_uri": "https://localhost:8080/"
        },
        "outputId": "c74c3c2e-52f3-434e-e04a-83df6c001822"
      },
      "outputs": [
        {
          "output_type": "stream",
          "name": "stdout",
          "text": [
            "[[1 4 4]\n",
            " [2 2 1]\n",
            " [4 4 7]]\n",
            "[[2 2 1]\n",
            " [1 4 4]\n",
            " [4 4 7]]\n"
          ]
        }
      ],
      "source": [
        "a=np.random.randint(1,10,(3,3))\n",
        "print(a)\n",
        "print(a[a[:,1].argsort()])"
      ]
    },
    {
      "cell_type": "markdown",
      "metadata": {
        "id": "EzaEV2SNBjrS"
      },
      "source": [
        "#### 60. How to tell if a given 2D array has null columns? (★★☆) \n",
        "(**hint**: any, ~)"
      ]
    },
    {
      "cell_type": "code",
      "execution_count": null,
      "metadata": {
        "id": "T1SG8sBgBjrS",
        "colab": {
          "base_uri": "https://localhost:8080/"
        },
        "outputId": "126a7eed-7f4e-4c0e-b8eb-bf1ebbbbe03b"
      },
      "outputs": [
        {
          "output_type": "stream",
          "name": "stdout",
          "text": [
            "False\n"
          ]
        }
      ],
      "source": [
        "a=np.random.randint(0,3,(3,10))\n",
        "b=(~a.any(axis=0).any())\n",
        "print(b)"
      ]
    },
    {
      "cell_type": "markdown",
      "metadata": {
        "id": "pjgBE0-7BjrS"
      },
      "source": [
        "#### 61. Find the nearest value from a given value in an array (★★☆) \n",
        "(**hint**: np.abs, argmin, flat)"
      ]
    },
    {
      "cell_type": "code",
      "execution_count": null,
      "metadata": {
        "id": "HwWCXqftBjrT",
        "colab": {
          "base_uri": "https://localhost:8080/"
        },
        "outputId": "c9b26281-55eb-43df-c81d-1dab73a57dce"
      },
      "outputs": [
        {
          "output_type": "stream",
          "name": "stdout",
          "text": [
            "0.5300534289853568\n"
          ]
        }
      ],
      "source": [
        "a = np.random.uniform(0,1,10)\n",
        "b = 0.5\n",
        "c = a.flat[np.abs(a - b).argmin()]\n",
        "print(c)"
      ]
    },
    {
      "cell_type": "markdown",
      "metadata": {
        "id": "CrZMZgdaBjrT"
      },
      "source": [
        "#### 62. Considering two arrays with shape (1,3) and (3,1), how to compute their sum using an iterator? (★★☆) \n",
        "(**hint**: np.nditer)"
      ]
    },
    {
      "cell_type": "code",
      "execution_count": null,
      "metadata": {
        "id": "s0XE44FnBjrU",
        "colab": {
          "base_uri": "https://localhost:8080/"
        },
        "outputId": "99871f19-9248-4159-a102-27c2b727da6d"
      },
      "outputs": [
        {
          "output_type": "stream",
          "name": "stdout",
          "text": [
            "[[0]\n",
            " [1]\n",
            " [2]] [[0 1 2]]\n",
            "[[0 1 2]\n",
            " [1 2 3]\n",
            " [2 3 4]]\n"
          ]
        }
      ],
      "source": [
        "a = np.arange(3).reshape(3,1)\n",
        "b = np.arange(3).reshape(1,3)\n",
        "c = np.nditer([a,b,None])\n",
        "for i,j,k in c: \n",
        "  k[...] = i + j\n",
        "print(a,b)\n",
        "print(c.operands[2])"
      ]
    },
    {
      "cell_type": "markdown",
      "metadata": {
        "id": "ETn1_VJMBjrU"
      },
      "source": [
        "#### 63. Create an array class that has a name attribute (★★☆) \n",
        "(**hint**: class method)"
      ]
    },
    {
      "cell_type": "code",
      "source": [
        ""
      ],
      "metadata": {
        "id": "-BhKbDoKDngm"
      },
      "execution_count": null,
      "outputs": []
    },
    {
      "cell_type": "markdown",
      "metadata": {
        "id": "HDPB9Rt3BjrX"
      },
      "source": [
        "#### 64. Consider a given vector, how to add 1 to each element indexed by a second vector (be careful with repeated indices)? (★★★) \n",
        "(**hint**: np.bincount | np.add.at)"
      ]
    },
    {
      "cell_type": "code",
      "execution_count": null,
      "metadata": {
        "id": "daIse749BjrY",
        "colab": {
          "base_uri": "https://localhost:8080/"
        },
        "outputId": "696b7f49-bfe2-4be2-d053-1f3cf4d5ee5a"
      },
      "outputs": [
        {
          "output_type": "stream",
          "name": "stdout",
          "text": [
            "[7. 5. 3. 3. 1. 3. 5. 9. 7. 7.]\n",
            "[1 7 3 7 8 9 9 2 0 8 1 0 6 7 0 9 8 6 7 5]\n"
          ]
        }
      ],
      "source": [
        "a = np.ones(10)\n",
        "b = np.random.randint(0,len(a),20)\n",
        "a += np.bincount(b, minlength=len(a))\n",
        "print(a)"
      ]
    },
    {
      "cell_type": "markdown",
      "metadata": {
        "id": "ZRKlquLRBjrY"
      },
      "source": [
        "#### 65. How to accumulate elements of a vector (X) to an array (F) based on an index list (I)? (★★★) \n",
        "(**hint**: np.bincount)"
      ]
    },
    {
      "cell_type": "code",
      "execution_count": null,
      "metadata": {
        "id": "jbNdPnxmBjrZ",
        "colab": {
          "base_uri": "https://localhost:8080/"
        },
        "outputId": "487aa923-74df-44e1-befe-b0010417c3b8"
      },
      "outputs": [
        {
          "output_type": "stream",
          "name": "stdout",
          "text": [
            "[0. 0. 0. 0. 0. 0. 0. 6. 0. 8.]\n"
          ]
        }
      ],
      "source": [
        "a=np.random.randint(0,5,5)\n",
        "b=np.random.randint(5,10,5)\n",
        "c=np.bincount(b,a)\n",
        "print(c)"
      ]
    },
    {
      "cell_type": "markdown",
      "metadata": {
        "id": "4_HSuT3RBjrZ"
      },
      "source": [
        "#### 66. Considering a (w,h,3) image of (dtype=ubyte), compute the number of unique colors (★★★) \n",
        "(**hint**: np.unique)"
      ]
    },
    {
      "cell_type": "code",
      "execution_count": null,
      "metadata": {
        "id": "FUHNNQYnBjra",
        "colab": {
          "base_uri": "https://localhost:8080/"
        },
        "outputId": "65fc1093-dd9b-4bac-c359-31d65759edc2"
      },
      "outputs": [
        {
          "output_type": "stream",
          "name": "stdout",
          "text": [
            "64\n"
          ]
        }
      ],
      "source": [
        "w,h=256,256\n",
        "a=np.random.randint(0,4,(w,h,3),dtype=np.uint8)\n",
        "b=np.dot(a.astype(np.uint32),[1,256,65536])\n",
        "c=len(np.unique(b))\n",
        "print(c)"
      ]
    },
    {
      "cell_type": "markdown",
      "metadata": {
        "id": "Fzn7xaKPBjrb"
      },
      "source": [
        "#### 67. Considering a four dimensions array, how to get sum over the last two axis at once? (★★★) \n",
        "(**hint**: sum(axis=(-2,-1)))"
      ]
    },
    {
      "cell_type": "code",
      "execution_count": null,
      "metadata": {
        "id": "FPTpSBRGBjrb",
        "colab": {
          "base_uri": "https://localhost:8080/"
        },
        "outputId": "b8ad9710-a241-4e1b-fb98-5af2ca0006e5"
      },
      "outputs": [
        {
          "output_type": "stream",
          "name": "stdout",
          "text": [
            "[[77 55 47 66]\n",
            " [60 48 73 60]\n",
            " [74 60 59 58]]\n"
          ]
        }
      ],
      "source": [
        "a= np.random.randint(0,10,(3,4,3,4))\n",
        "b = a.sum(axis=(-2,-1))\n",
        "print(b)"
      ]
    },
    {
      "cell_type": "markdown",
      "metadata": {
        "id": "Nw45rnt1Bjrc"
      },
      "source": [
        "#### 68. Considering a one-dimensional vector D, how to compute means of subsets of D using a vector S of same size describing subset  indices? (★★★) \n",
        "(**hint**: np.bincount)"
      ]
    },
    {
      "cell_type": "code",
      "execution_count": null,
      "metadata": {
        "id": "B9Va8s8LBjrd",
        "colab": {
          "base_uri": "https://localhost:8080/"
        },
        "outputId": "ca69dd8a-66f7-4409-abfd-d1550c3f0e82"
      },
      "outputs": [
        {
          "output_type": "stream",
          "name": "stdout",
          "text": [
            "[0.33771757 0.52347848 0.5842827  0.48786321 0.45007295 0.58054922\n",
            " 0.7038185  0.53806104 0.55952663 0.46716929]\n"
          ]
        }
      ],
      "source": [
        "a = np.random.uniform(0,1,100)\n",
        "b = np.random.randint(0,10,100)\n",
        "a_sums = np.bincount(b, weights=a)\n",
        "a_counts = np.bincount(b)\n",
        "a_means = a_sums / a_counts\n",
        "print(a_means)"
      ]
    },
    {
      "cell_type": "markdown",
      "metadata": {
        "id": "t3M661JWBjrd"
      },
      "source": [
        "#### 69. How to get the diagonal of a dot product? (★★★) \n",
        "(**hint**: np.diag)"
      ]
    },
    {
      "cell_type": "code",
      "execution_count": null,
      "metadata": {
        "id": "RGM5D7FoBjre",
        "colab": {
          "base_uri": "https://localhost:8080/"
        },
        "outputId": "6485c4d3-8e04-4a6a-a6ec-6e54d8c60f34"
      },
      "outputs": [
        {
          "output_type": "stream",
          "name": "stdout",
          "text": [
            "[0.60668397 0.52190206 0.94743109]\n"
          ]
        }
      ],
      "source": [
        "a = np.random.uniform(0,1,(3,3))\n",
        "b = np.random.uniform(0,1,(3,3))\n",
        "c=np.diag(np.dot(a,b))\n",
        "print(c)"
      ]
    },
    {
      "cell_type": "markdown",
      "metadata": {
        "id": "61f7P5IXBjre"
      },
      "source": [
        "#### 70. Consider the vector \\[1, 2, 3, 4, 5\\], how to build a new vector with 3 consecutive zeros interleaved between each value? (★★★) \n",
        "(**hint**: array\\[::4\\])"
      ]
    },
    {
      "cell_type": "code",
      "execution_count": null,
      "metadata": {
        "id": "zpydZpqVBjrf",
        "colab": {
          "base_uri": "https://localhost:8080/"
        },
        "outputId": "bd43c68d-a9af-4270-8861-acf4ec365d41"
      },
      "outputs": [
        {
          "output_type": "stream",
          "name": "stdout",
          "text": [
            "[1. 0. 0. 0. 2. 0. 0. 0. 3. 0. 0. 0. 4. 0. 0. 0. 5.]\n"
          ]
        }
      ],
      "source": [
        "a = np.array([1,2,3,4,5])\n",
        "n = 3\n",
        "b = np.zeros(len(a) + (len(a)-1)*(n))\n",
        "b[::n+1] = a\n",
        "print(b)"
      ]
    },
    {
      "cell_type": "markdown",
      "metadata": {
        "id": "PfhPFydbBjrf"
      },
      "source": [
        "#### 71. Consider an array of dimension (5,5,3), how to mulitply it by an array with dimensions (5,5)? (★★★) \n",
        "(**hint**: array\\[:, :, None\\])"
      ]
    },
    {
      "cell_type": "code",
      "execution_count": null,
      "metadata": {
        "collapsed": true,
        "id": "L-1Gr_zGBjrf",
        "colab": {
          "base_uri": "https://localhost:8080/"
        },
        "outputId": "71be17cb-895b-42ce-cb74-6ed8ca2740f2"
      },
      "outputs": [
        {
          "output_type": "stream",
          "name": "stdout",
          "text": [
            "[[[3. 3. 3.]\n",
            "  [3. 3. 3.]\n",
            "  [3. 3. 3.]\n",
            "  [3. 3. 3.]\n",
            "  [3. 3. 3.]]\n",
            "\n",
            " [[3. 3. 3.]\n",
            "  [3. 3. 3.]\n",
            "  [3. 3. 3.]\n",
            "  [3. 3. 3.]\n",
            "  [3. 3. 3.]]\n",
            "\n",
            " [[3. 3. 3.]\n",
            "  [3. 3. 3.]\n",
            "  [3. 3. 3.]\n",
            "  [3. 3. 3.]\n",
            "  [3. 3. 3.]]\n",
            "\n",
            " [[3. 3. 3.]\n",
            "  [3. 3. 3.]\n",
            "  [3. 3. 3.]\n",
            "  [3. 3. 3.]\n",
            "  [3. 3. 3.]]\n",
            "\n",
            " [[3. 3. 3.]\n",
            "  [3. 3. 3.]\n",
            "  [3. 3. 3.]\n",
            "  [3. 3. 3.]\n",
            "  [3. 3. 3.]]]\n"
          ]
        }
      ],
      "source": [
        "a = np.ones((5,5,3))\n",
        "b = 3*np.ones((5,5))\n",
        "print(a * b[:,:,None])"
      ]
    },
    {
      "cell_type": "markdown",
      "metadata": {
        "id": "Qq5Bf6zmBjrh"
      },
      "source": [
        "#### 72. How to swap two rows of an array? (★★★) \n",
        "(**hint**: array\\[\\[\\]\\] = array\\[\\[\\]\\])"
      ]
    },
    {
      "cell_type": "code",
      "execution_count": null,
      "metadata": {
        "id": "L7u6mjtBBjrj",
        "colab": {
          "base_uri": "https://localhost:8080/"
        },
        "outputId": "29e168e0-397a-414b-d157-f718e2cf9fdc"
      },
      "outputs": [
        {
          "output_type": "stream",
          "name": "stdout",
          "text": [
            "[[3 4 5]\n",
            " [0 1 2]\n",
            " [6 7 8]]\n"
          ]
        }
      ],
      "source": [
        "a = np.arange(9).reshape(3,3)\n",
        "a[[0,1]] = a[[1,0]]\n",
        "print(a)"
      ]
    },
    {
      "cell_type": "markdown",
      "metadata": {
        "id": "KqrxkHCaBjrk"
      },
      "source": [
        "#### 73. Consider a set of 10 triplets describing 10 triangles (with shared vertices), find the set of unique line segments composing all the  triangles (★★★) \n",
        "(**hint**: repeat, np.roll, np.sort, view, np.unique)"
      ]
    },
    {
      "cell_type": "code",
      "execution_count": null,
      "metadata": {
        "id": "ApqimGF9Bjrl",
        "colab": {
          "base_uri": "https://localhost:8080/"
        },
        "outputId": "1933f72a-fc85-4368-ee18-56e9d56ad503"
      },
      "outputs": [
        {
          "output_type": "stream",
          "name": "stdout",
          "text": [
            "[( 0,  2) ( 0,  4) ( 0,  7) ( 0, 11) ( 1,  6) ( 1, 10) ( 1, 14) ( 1, 17)\n",
            " ( 2,  3) ( 2, 11) ( 2, 12) ( 3, 12) ( 4,  7) ( 5,  7) ( 5, 18) ( 6,  8)\n",
            " ( 6,  9) ( 6, 10) ( 7, 18) ( 8,  9) ( 8, 17) ( 9, 17) (10, 13) (10, 14)\n",
            " (13, 14) (14, 15) (14, 17) (14, 19) (15, 19)]\n"
          ]
        }
      ],
      "source": [
        "tri = np.random.randint(0,20,(10,3))\n",
        "a = np.roll(tri.repeat(2,axis=1),-1,axis=1)\n",
        "a = a.reshape(len(a)*3,2)\n",
        "a = np.sort(a,axis=1)\n",
        "b = a.view( dtype=[('i',a.dtype),('j',a.dtype)] )\n",
        "b = np.unique(b)\n",
        "print(b)"
      ]
    },
    {
      "cell_type": "markdown",
      "metadata": {
        "id": "RIiwc4DCBjrp"
      },
      "source": [
        "#### 74. Given an array C that is a bincount, how to produce an array A such that np.bincount(A) == C? (★★★) \n",
        "(**hint**: np.repeat)"
      ]
    },
    {
      "cell_type": "code",
      "execution_count": null,
      "metadata": {
        "id": "nWXtVeK4Bjrq",
        "colab": {
          "base_uri": "https://localhost:8080/"
        },
        "outputId": "6958e0d3-53d1-4786-c373-d8c2ae1a36e7"
      },
      "outputs": [
        {
          "output_type": "stream",
          "name": "stdout",
          "text": [
            "[0 2 1 1 2 0 1]\n",
            "[1 1 2 3 4 4 6]\n"
          ]
        }
      ],
      "source": [
        "C = np.bincount([1,1,2,3,4,4,6])\n",
        "A = np.repeat(np.arange(len(C)), C)\n",
        "print(A)"
      ]
    },
    {
      "cell_type": "markdown",
      "metadata": {
        "id": "Pw2m431zBjrq"
      },
      "source": [
        "#### 75. How to compute averages using a sliding window over an array? (★★★) \n",
        "(**hint**: np.cumsum)"
      ]
    },
    {
      "cell_type": "code",
      "source": [
        "a=np.arange(20)\n",
        "n=3\n",
        "b=np.cumsum(a,dtype=float)\n",
        "b[n:]=b[n:]-b[:-n]\n",
        "c=b[n-1:]/n\n",
        "print(c)"
      ],
      "metadata": {
        "colab": {
          "base_uri": "https://localhost:8080/"
        },
        "id": "lQ4Dwa5mMDGa",
        "outputId": "c1664f51-3f38-4207-a618-d97e72cc5460"
      },
      "execution_count": null,
      "outputs": [
        {
          "output_type": "stream",
          "name": "stdout",
          "text": [
            "[ 1.  2.  3.  4.  5.  6.  7.  8.  9. 10. 11. 12. 13. 14. 15. 16. 17. 18.]\n"
          ]
        }
      ]
    },
    {
      "cell_type": "markdown",
      "metadata": {
        "id": "Krhuj9IFBjrr"
      },
      "source": [
        "#### 76. Consider a one-dimensional array Z, build a two-dimensional array whose first row is (Z\\[0\\],Z\\[1\\],Z\\[2\\]) and each subsequent row is  shifted by 1 (last row should be (Z\\[-3\\],Z\\[-2\\],Z\\[-1\\]) (★★★) \n",
        "(**hint**: from numpy.lib import stride_tricks)"
      ]
    },
    {
      "cell_type": "code",
      "execution_count": null,
      "metadata": {
        "id": "HekHoC8fBjrs"
      },
      "outputs": [],
      "source": [
        "from numpy.lib import stride_tricks\n",
        "\n",
        "def rolling(a, window):\n",
        "    shape = (a.size - window + 1, window)\n",
        "    strides = (a.strides[0], a.strides[0])\n",
        "    return stride_tricks.as_strided(a, shape=shape, strides=strides)\n",
        "Z = rolling(np.arange(10), 3)\n",
        "print(Z)"
      ]
    },
    {
      "cell_type": "code",
      "source": [
        "from numpy.lib import stride_tricks\n",
        "a=np.arange(10)\n",
        "w=3\n",
        "shape=(a.size-w+1,w)\n",
        "stride=(a.strides[0],a.strides[0])\n",
        "print(stride_tricks.as_strided(a, shape=shape, strides=stride))"
      ],
      "metadata": {
        "colab": {
          "base_uri": "https://localhost:8080/"
        },
        "id": "iedAeun9M_LK",
        "outputId": "c56387dc-d9ba-44d0-d990-711f8aef14d4"
      },
      "execution_count": null,
      "outputs": [
        {
          "output_type": "stream",
          "name": "stdout",
          "text": [
            "[[0 1 2]\n",
            " [1 2 3]\n",
            " [2 3 4]\n",
            " [3 4 5]\n",
            " [4 5 6]\n",
            " [5 6 7]\n",
            " [6 7 8]\n",
            " [7 8 9]]\n"
          ]
        }
      ]
    },
    {
      "cell_type": "markdown",
      "metadata": {
        "id": "4NGrGHE8Bjrt"
      },
      "source": [
        "#### 77. How to negate a boolean, or to change the sign of a float inplace? (★★★) \n",
        "(**hint**: np.logical_not, np.negative)"
      ]
    },
    {
      "cell_type": "code",
      "execution_count": 4,
      "metadata": {
        "id": "amKtMabDBjru",
        "colab": {
          "base_uri": "https://localhost:8080/"
        },
        "outputId": "ec9196ed-4b8f-4e78-e935-b226f9fdcfb4"
      },
      "outputs": [
        {
          "output_type": "stream",
          "name": "stdout",
          "text": [
            "[0 0 1 0 0 0 0 1 1 0 0 1 1 0 0 0 1 1 0 1 0 1 0 1 0 1 1 1 1 1 1 0 0 0 0 0 1\n",
            " 1 1 0 0 1 0 1 1 0 0 0 1 1 0 1 0 1 1 0 0 1 0 1 0 0 0 0 1 0 1 0 1 0 0 1 1 0\n",
            " 1 0 0 0 0 1 0 0 1 0 1 1 0 1 0 1 0 1 1 1 1 1 0 1 0 1]\n"
          ]
        }
      ],
      "source": [
        "a = np.random.randint(0,2,100)\n",
        "b=np.logical_not(a, out=a)\n",
        "print(b)"
      ]
    },
    {
      "cell_type": "code",
      "source": [
        "a= np.random.uniform(-1.0,1.0,100)\n",
        "print(np.negative(a, out=a))\n"
      ],
      "metadata": {
        "colab": {
          "base_uri": "https://localhost:8080/"
        },
        "id": "xbICkm1oSZtp",
        "outputId": "71868ce7-a048-42a9-9357-9637cc7b2ad0"
      },
      "execution_count": 11,
      "outputs": [
        {
          "output_type": "stream",
          "name": "stdout",
          "text": [
            "[ 0.52941295  0.81803757 -0.01756783  0.98750798 -0.8300565  -0.63304084\n",
            " -0.73108244  0.83202085  0.61996367 -0.0635965  -0.48525477 -0.48486437\n",
            "  0.24143145  0.35343969 -0.54817147 -0.52215058 -0.91813168  0.78727875\n",
            "  0.46240364  0.00990939 -0.48866022  0.03747463 -0.32527436 -0.01450709\n",
            "  0.66242935 -0.23668753  0.23878957  0.25644566  0.38198143  0.22161822\n",
            "  0.08303417  0.2302033  -0.75575802 -0.67078913  0.07841228 -0.05782368\n",
            " -0.64743709  0.34880668  0.51926093 -0.63678426 -0.92795438  0.44654081\n",
            "  0.36596194  0.2777334   0.80775453 -0.92170435  0.82833793  0.23169339\n",
            "  0.17244218  0.50439887  0.27156708  0.35624936  0.8634112   0.18613789\n",
            " -0.97896992  0.34780979  0.09429134  0.14469528 -0.67742193  0.08136246\n",
            " -0.73922385 -0.07245864 -0.98516062 -0.79139823  0.97714868 -0.5810724\n",
            "  0.13009593 -0.36164606  0.49793525  0.8080838   0.38581603 -0.08631749\n",
            " -0.88410143 -0.34301726 -0.551994    0.52396545  0.74103294 -0.42906263\n",
            " -0.58526804 -0.29093386  0.28575235 -0.48720707 -0.92724734  0.65594706\n",
            " -0.24494992  0.58860979  0.12609293 -0.54232076  0.73769812  0.90401022\n",
            " -0.14308279  0.67159567 -0.75023224 -0.55021471  0.13730833  0.59546273\n",
            "  0.08745049 -0.15825399  0.84232034  0.35369759]\n"
          ]
        }
      ]
    },
    {
      "cell_type": "markdown",
      "metadata": {
        "id": "JmG8WUjEBjrw"
      },
      "source": [
        "#### 78. Consider 2 sets of points P0,P1 describing lines (2d) and a point p, how to compute distance from p to each line i  (P0\\[i\\],P1\\[i\\])? (★★★)"
      ]
    },
    {
      "cell_type": "code",
      "source": [
        "d=np.random.uniform(10,10,(10,2))\n",
        "d0=np.random.uniform(-10,10,(10,2))\n",
        "d1=np.random.uniform(-10,10,(10,2))\n",
        "a=d1-d0\n",
        "b=(a**2).sum(axis=1)\n",
        "c=-((d0[:,0]-d[...,0])*a[:,0]+(d0[:,1]-d[...,1])*a[:,1]) / b\n",
        "c=c.reshape(len(c),1)\n",
        "print(np.sqrt(((d0+c*a-d)**2).sum(axis=1)))"
      ],
      "metadata": {
        "colab": {
          "base_uri": "https://localhost:8080/"
        },
        "id": "YJW3drX1TUOi",
        "outputId": "4bcbc23b-5c15-408c-e86e-c4ecbcdb6011"
      },
      "execution_count": 15,
      "outputs": [
        {
          "output_type": "stream",
          "name": "stdout",
          "text": [
            "[16.05023996  9.74877904  4.2168395   0.49153277  8.69505323  6.24945999\n",
            "  5.47376953  2.71662158 18.61204666  2.00273497]\n"
          ]
        }
      ]
    },
    {
      "cell_type": "markdown",
      "metadata": {
        "id": "SI4-wO22Bjr5"
      },
      "source": [
        "#### 79. Consider 2 sets of points P0,P1 describing lines (2d) and a set of points P, how to compute distance from each point j (P\\[j\\]) to each line i (P0\\[i\\],P1\\[i\\])? (★★★)"
      ]
    },
    {
      "cell_type": "code",
      "execution_count": 16,
      "metadata": {
        "id": "UfCMtPc4Bjr6",
        "colab": {
          "base_uri": "https://localhost:8080/"
        },
        "outputId": "66895f42-dcfd-4d62-e48c-c8015323604d"
      },
      "outputs": [
        {
          "output_type": "stream",
          "name": "stdout",
          "text": [
            "[[ 2.01897117  2.21524787  9.54881987  2.90798151  7.1929396   9.38669716\n",
            "   7.42444251 13.12673023 10.40395023 14.60080161]\n",
            " [16.04157546  6.3245469   9.01009719  3.82357784  7.76121147  8.17179616\n",
            "  11.52344087  5.22236018  7.52818694  1.2631461 ]\n",
            " [ 2.07779867  4.75281544  9.25376053  6.31261957  3.86626377  5.96882416\n",
            "   6.61658667 11.26893054 10.53727    11.89575893]\n",
            " [ 2.62697025  1.64419572  5.01019257  0.88605225  9.54173303 11.34104615\n",
            "   3.12631014  9.67690122  5.74141493 12.34617093]\n",
            " [ 6.9472611   6.91666583  1.02817107  3.2799946  13.95619348 15.45378168\n",
            "   0.2872383   7.75519262  1.35544311 12.09878812]\n",
            " [13.72829523  8.01945683  6.2379558   0.08009647 11.38282609 12.12959618\n",
            "   8.13027376  0.74140432  5.31459133  3.8319262 ]\n",
            " [15.24988555  1.21398648  8.86745331 10.21404949  1.46193957  1.76762889\n",
            "  12.33384876  8.03671142  6.60076035  5.77001245]\n",
            " [ 5.70493679  6.86073259  0.43639636 14.565741    3.5564812   2.44604539\n",
            "   3.55391289  1.06039043  2.9826261   1.29787533]\n",
            " [ 1.40244673  2.67881943  5.73816156  5.90740924  4.54328138  6.31878432\n",
            "   3.11377954  8.06039145  7.06898251  9.30933753]\n",
            " [ 7.57525066  4.68959244  0.02532209  0.17882677 10.63223427 11.97026251\n",
            "   1.82059688  5.18870602  0.80725474  8.77479637]]\n"
          ]
        }
      ],
      "source": [
        "d = np.random.uniform(-10, 10, (10,2))\n",
        "d0 = np.random.uniform(-10,10,(10,2))\n",
        "d1 = np.random.uniform(-10, 10, (10,2))\n",
        "print(np.array([distance(d0,d1,i) for i in d]))"
      ]
    },
    {
      "cell_type": "markdown",
      "metadata": {
        "id": "lweqULYvBjr6"
      },
      "source": [
        "#### 80. Consider an arbitrary array, write a function that extract a subpart with a fixed shape and centered on a given element (pad with a `fill` value when necessary) (★★★) \n",
        "(**hint**: minimum, maximum)"
      ]
    },
    {
      "cell_type": "code",
      "execution_count": 19,
      "metadata": {
        "id": "Nt-p5esMBjr7",
        "colab": {
          "base_uri": "https://localhost:8080/"
        },
        "outputId": "8d518d6c-0c04-4acd-8054-d3f4d2b4f4d8"
      },
      "outputs": [
        {
          "output_type": "stream",
          "name": "stdout",
          "text": [
            "[[6 6 7 9 0 7 4 6 0 0]\n",
            " [9 8 5 1 0 4 8 6 5 5]\n",
            " [4 3 9 6 0 2 1 3 2 1]\n",
            " [6 3 6 0 0 1 5 7 1 8]\n",
            " [6 5 9 3 8 6 1 9 4 9]\n",
            " [7 5 4 4 7 9 8 4 2 1]\n",
            " [8 5 5 3 3 9 3 9 4 8]\n",
            " [4 4 5 3 5 6 3 4 6 1]\n",
            " [8 6 8 5 8 3 9 7 8 1]\n",
            " [8 6 0 1 4 7 2 0 4 4]]\n",
            "[[0 0 0 0 0]\n",
            " [0 6 6 7 9]\n",
            " [0 9 8 5 1]\n",
            " [0 4 3 9 6]\n",
            " [0 6 3 6 0]]\n"
          ]
        },
        {
          "output_type": "stream",
          "name": "stderr",
          "text": [
            "/usr/local/lib/python3.7/dist-packages/ipykernel_launcher.py:23: FutureWarning: Using a non-tuple sequence for multidimensional indexing is deprecated; use `arr[tuple(seq)]` instead of `arr[seq]`. In the future this will be interpreted as an array index, `arr[np.array(seq)]`, which will result either in an error or a different result.\n"
          ]
        }
      ],
      "source": [
        "a = np.random.randint(0,10,(10,10))\n",
        "shape = (5,5)\n",
        "fill  = 0\n",
        "position = (1,1)\n",
        "\n",
        "b = np.ones(shape, dtype=a.dtype)*fill\n",
        "c  = np.array(list(position)).astype(int)\n",
        "b_s = np.array(list(b.shape)).astype(int)\n",
        "a_s = np.array(list(a.shape)).astype(int)\n",
        "\n",
        "b_start = np.zeros((len(shape),)).astype(int)\n",
        "b_stop  = np.array(list(shape)).astype(int)\n",
        "a_start = (c-b_s//2)\n",
        "a_stop  = (c+b_s//2)+b_s%2\n",
        "\n",
        "b_start = (b_start - np.minimum(a_start,0)).tolist()\n",
        "a_start = (np.maximum(a_start,0)).tolist()\n",
        "b_stop = np.maximum(b_start, (b_stop - np.maximum(a_stop-a_s,0))).tolist()\n",
        "a_stop = (np.minimum(a_stop,a_s)).tolist()\n",
        "\n",
        "u = [slice(start,stop) for start,stop in zip(b_start,b_stop)]\n",
        "v = [slice(start,stop) for start,stop in zip(a_start,a_stop)]\n",
        "b[u] = a[v]\n",
        "print(a)\n",
        "print(b)"
      ]
    },
    {
      "cell_type": "markdown",
      "metadata": {
        "id": "1AuHJiP0Bjr9"
      },
      "source": [
        "#### 81. Consider an array Z = \\[1,2,3,4,5,6,7,8,9,10,11,12,13,14\\], how to generate an array R = \\[\\[1,2,3,4\\], \\[2,3,4,5\\], \\[3,4,5,6\\], ..., \\[11,12,13,14\\]\\]? (★★★) \n",
        "(**hint**: stride\\_tricks.as\\_strided)"
      ]
    },
    {
      "cell_type": "code",
      "execution_count": 26,
      "metadata": {
        "id": "5DE6kWZNBjr-",
        "colab": {
          "base_uri": "https://localhost:8080/"
        },
        "outputId": "610b51e4-9a03-49fe-e2cd-39cc068f10b0"
      },
      "outputs": [
        {
          "output_type": "stream",
          "name": "stdout",
          "text": [
            "[[ 1  2  3  4]\n",
            " [ 2  3  4  5]\n",
            " [ 3  4  5  6]\n",
            " [ 4  5  6  7]\n",
            " [ 5  6  7  8]\n",
            " [ 6  7  8  9]\n",
            " [ 7  8  9 10]\n",
            " [ 8  9 10 11]\n",
            " [ 9 10 11 12]\n",
            " [10 11 12 13]\n",
            " [11 12 13 14]]\n"
          ]
        }
      ],
      "source": [
        "from numpy.lib import stride_tricks\n",
        "a = np.arange(1,15,dtype=np.uint32)\n",
        "b = stride_tricks.as_strided(a,(11,4),(4,4))\n",
        "print(b)"
      ]
    },
    {
      "cell_type": "markdown",
      "metadata": {
        "id": "f2xNLzl6Bjr-"
      },
      "source": [
        "#### 82. Compute a matrix rank (★★★) \n",
        "(**hint**: np.linalg.svd) (suggestion: np.linalg.svd)"
      ]
    },
    {
      "cell_type": "code",
      "execution_count": 3,
      "metadata": {
        "id": "h6bbKP1ABjr_",
        "colab": {
          "base_uri": "https://localhost:8080/"
        },
        "outputId": "f9c200a1-5b0b-4f1d-f8c0-9edbdb5d324a"
      },
      "outputs": [
        {
          "output_type": "stream",
          "name": "stdout",
          "text": [
            "10\n"
          ]
        }
      ],
      "source": [
        "a = np.random.uniform(0,1,(10,10))\n",
        "x, y, z = np.linalg.svd(a)\n",
        "rank = np.sum(y > 1e-10)\n",
        "print(rank)"
      ]
    },
    {
      "cell_type": "markdown",
      "metadata": {
        "id": "ykQrX04uBjsC"
      },
      "source": [
        "#### 83. How to find the most frequent value in an array? \n",
        "(**hint**: np.bincount, argmax)"
      ]
    },
    {
      "cell_type": "code",
      "execution_count": 8,
      "metadata": {
        "id": "L6dQ2VmCBjsD",
        "colab": {
          "base_uri": "https://localhost:8080/"
        },
        "outputId": "086bbd3b-d6df-45bf-8c57-80792b71b13f"
      },
      "outputs": [
        {
          "output_type": "stream",
          "name": "stdout",
          "text": [
            "2\n"
          ]
        }
      ],
      "source": [
        "a= np.random.randint(0,10,100)\n",
        "print(np.bincount(a).argmax())"
      ]
    },
    {
      "cell_type": "markdown",
      "metadata": {
        "id": "4Zd1H5MnBjsD"
      },
      "source": [
        "#### 84. Extract all the contiguous 3x3 blocks from a random 10x10 matrix (★★★) \n",
        "(**hint**: stride\\_tricks.as\\_strided)"
      ]
    },
    {
      "cell_type": "code",
      "execution_count": 10,
      "metadata": {
        "id": "w6ZbRdlgBjsE",
        "colab": {
          "base_uri": "https://localhost:8080/"
        },
        "outputId": "b9206aa5-b0db-485c-df87-1276cfd4d54d"
      },
      "outputs": [
        {
          "output_type": "stream",
          "name": "stdout",
          "text": [
            "[[[[0 4 4]\n",
            "   [1 3 4]\n",
            "   [1 3 1]]\n",
            "\n",
            "  [[4 4 0]\n",
            "   [3 4 3]\n",
            "   [3 1 4]]\n",
            "\n",
            "  [[4 0 4]\n",
            "   [4 3 0]\n",
            "   [1 4 0]]\n",
            "\n",
            "  [[0 4 2]\n",
            "   [3 0 2]\n",
            "   [4 0 1]]\n",
            "\n",
            "  [[4 2 3]\n",
            "   [0 2 2]\n",
            "   [0 1 2]]\n",
            "\n",
            "  [[2 3 1]\n",
            "   [2 2 4]\n",
            "   [1 2 4]]\n",
            "\n",
            "  [[3 1 2]\n",
            "   [2 4 3]\n",
            "   [2 4 3]]\n",
            "\n",
            "  [[1 2 2]\n",
            "   [4 3 2]\n",
            "   [4 3 3]]]\n",
            "\n",
            "\n",
            " [[[1 3 4]\n",
            "   [1 3 1]\n",
            "   [3 0 1]]\n",
            "\n",
            "  [[3 4 3]\n",
            "   [3 1 4]\n",
            "   [0 1 2]]\n",
            "\n",
            "  [[4 3 0]\n",
            "   [1 4 0]\n",
            "   [1 2 2]]\n",
            "\n",
            "  [[3 0 2]\n",
            "   [4 0 1]\n",
            "   [2 2 3]]\n",
            "\n",
            "  [[0 2 2]\n",
            "   [0 1 2]\n",
            "   [2 3 1]]\n",
            "\n",
            "  [[2 2 4]\n",
            "   [1 2 4]\n",
            "   [3 1 3]]\n",
            "\n",
            "  [[2 4 3]\n",
            "   [2 4 3]\n",
            "   [1 3 0]]\n",
            "\n",
            "  [[4 3 2]\n",
            "   [4 3 3]\n",
            "   [3 0 1]]]\n",
            "\n",
            "\n",
            " [[[1 3 1]\n",
            "   [3 0 1]\n",
            "   [2 0 4]]\n",
            "\n",
            "  [[3 1 4]\n",
            "   [0 1 2]\n",
            "   [0 4 1]]\n",
            "\n",
            "  [[1 4 0]\n",
            "   [1 2 2]\n",
            "   [4 1 1]]\n",
            "\n",
            "  [[4 0 1]\n",
            "   [2 2 3]\n",
            "   [1 1 3]]\n",
            "\n",
            "  [[0 1 2]\n",
            "   [2 3 1]\n",
            "   [1 3 1]]\n",
            "\n",
            "  [[1 2 4]\n",
            "   [3 1 3]\n",
            "   [3 1 2]]\n",
            "\n",
            "  [[2 4 3]\n",
            "   [1 3 0]\n",
            "   [1 2 2]]\n",
            "\n",
            "  [[4 3 3]\n",
            "   [3 0 1]\n",
            "   [2 2 3]]]\n",
            "\n",
            "\n",
            " [[[3 0 1]\n",
            "   [2 0 4]\n",
            "   [3 0 4]]\n",
            "\n",
            "  [[0 1 2]\n",
            "   [0 4 1]\n",
            "   [0 4 2]]\n",
            "\n",
            "  [[1 2 2]\n",
            "   [4 1 1]\n",
            "   [4 2 3]]\n",
            "\n",
            "  [[2 2 3]\n",
            "   [1 1 3]\n",
            "   [2 3 3]]\n",
            "\n",
            "  [[2 3 1]\n",
            "   [1 3 1]\n",
            "   [3 3 2]]\n",
            "\n",
            "  [[3 1 3]\n",
            "   [3 1 2]\n",
            "   [3 2 3]]\n",
            "\n",
            "  [[1 3 0]\n",
            "   [1 2 2]\n",
            "   [2 3 1]]\n",
            "\n",
            "  [[3 0 1]\n",
            "   [2 2 3]\n",
            "   [3 1 2]]]\n",
            "\n",
            "\n",
            " [[[2 0 4]\n",
            "   [3 0 4]\n",
            "   [3 1 0]]\n",
            "\n",
            "  [[0 4 1]\n",
            "   [0 4 2]\n",
            "   [1 0 1]]\n",
            "\n",
            "  [[4 1 1]\n",
            "   [4 2 3]\n",
            "   [0 1 4]]\n",
            "\n",
            "  [[1 1 3]\n",
            "   [2 3 3]\n",
            "   [1 4 4]]\n",
            "\n",
            "  [[1 3 1]\n",
            "   [3 3 2]\n",
            "   [4 4 2]]\n",
            "\n",
            "  [[3 1 2]\n",
            "   [3 2 3]\n",
            "   [4 2 4]]\n",
            "\n",
            "  [[1 2 2]\n",
            "   [2 3 1]\n",
            "   [2 4 0]]\n",
            "\n",
            "  [[2 2 3]\n",
            "   [3 1 2]\n",
            "   [4 0 2]]]\n",
            "\n",
            "\n",
            " [[[3 0 4]\n",
            "   [3 1 0]\n",
            "   [2 3 0]]\n",
            "\n",
            "  [[0 4 2]\n",
            "   [1 0 1]\n",
            "   [3 0 3]]\n",
            "\n",
            "  [[4 2 3]\n",
            "   [0 1 4]\n",
            "   [0 3 1]]\n",
            "\n",
            "  [[2 3 3]\n",
            "   [1 4 4]\n",
            "   [3 1 3]]\n",
            "\n",
            "  [[3 3 2]\n",
            "   [4 4 2]\n",
            "   [1 3 1]]\n",
            "\n",
            "  [[3 2 3]\n",
            "   [4 2 4]\n",
            "   [3 1 4]]\n",
            "\n",
            "  [[2 3 1]\n",
            "   [2 4 0]\n",
            "   [1 4 1]]\n",
            "\n",
            "  [[3 1 2]\n",
            "   [4 0 2]\n",
            "   [4 1 1]]]\n",
            "\n",
            "\n",
            " [[[3 1 0]\n",
            "   [2 3 0]\n",
            "   [2 1 0]]\n",
            "\n",
            "  [[1 0 1]\n",
            "   [3 0 3]\n",
            "   [1 0 1]]\n",
            "\n",
            "  [[0 1 4]\n",
            "   [0 3 1]\n",
            "   [0 1 2]]\n",
            "\n",
            "  [[1 4 4]\n",
            "   [3 1 3]\n",
            "   [1 2 3]]\n",
            "\n",
            "  [[4 4 2]\n",
            "   [1 3 1]\n",
            "   [2 3 3]]\n",
            "\n",
            "  [[4 2 4]\n",
            "   [3 1 4]\n",
            "   [3 3 4]]\n",
            "\n",
            "  [[2 4 0]\n",
            "   [1 4 1]\n",
            "   [3 4 4]]\n",
            "\n",
            "  [[4 0 2]\n",
            "   [4 1 1]\n",
            "   [4 4 3]]]\n",
            "\n",
            "\n",
            " [[[2 3 0]\n",
            "   [2 1 0]\n",
            "   [0 3 2]]\n",
            "\n",
            "  [[3 0 3]\n",
            "   [1 0 1]\n",
            "   [3 2 2]]\n",
            "\n",
            "  [[0 3 1]\n",
            "   [0 1 2]\n",
            "   [2 2 3]]\n",
            "\n",
            "  [[3 1 3]\n",
            "   [1 2 3]\n",
            "   [2 3 3]]\n",
            "\n",
            "  [[1 3 1]\n",
            "   [2 3 3]\n",
            "   [3 3 1]]\n",
            "\n",
            "  [[3 1 4]\n",
            "   [3 3 4]\n",
            "   [3 1 4]]\n",
            "\n",
            "  [[1 4 1]\n",
            "   [3 4 4]\n",
            "   [1 4 2]]\n",
            "\n",
            "  [[4 1 1]\n",
            "   [4 4 3]\n",
            "   [4 2 0]]]]\n"
          ]
        }
      ],
      "source": [
        "from numpy.lib import stride_tricks\n",
        "a = np.random.randint(0,5,(10,10))\n",
        "n = 3\n",
        "i = 1 + (a.shape[0]-3)\n",
        "j = 1 + (a.shape[1]-3)\n",
        "b = stride_tricks.as_strided(a, shape=(i, j, n, n), strides=a.strides + a.strides)\n",
        "print(b)"
      ]
    },
    {
      "cell_type": "markdown",
      "metadata": {
        "id": "C6zOxWoGBjsJ"
      },
      "source": [
        "#### 85. Create a 2D array subclass such that Z\\[i,j\\] == Z\\[j,i\\] (★★★) \n",
        "(**hint**: class method)"
      ]
    },
    {
      "cell_type": "code",
      "execution_count": null,
      "metadata": {
        "id": "kQTUTdNrBjsK"
      },
      "outputs": [],
      "source": [
        ""
      ]
    },
    {
      "cell_type": "markdown",
      "metadata": {
        "id": "XWovTToGBjsL"
      },
      "source": [
        "#### 86. Consider a set of p matrices wich shape (n,n) and a set of p vectors with shape (n,1). How to compute the sum of of the p matrix products at once? (result has shape (n,1)) (★★★) \n",
        "(**hint**: np.tensordot)"
      ]
    },
    {
      "cell_type": "code",
      "execution_count": 11,
      "metadata": {
        "id": "_leW-ygcBjsM",
        "colab": {
          "base_uri": "https://localhost:8080/"
        },
        "outputId": "d8f78545-98fe-4188-ba34-c387c1e1d907"
      },
      "outputs": [
        {
          "output_type": "stream",
          "name": "stdout",
          "text": [
            "[[200.]\n",
            " [200.]\n",
            " [200.]\n",
            " [200.]\n",
            " [200.]\n",
            " [200.]\n",
            " [200.]\n",
            " [200.]\n",
            " [200.]\n",
            " [200.]\n",
            " [200.]\n",
            " [200.]\n",
            " [200.]\n",
            " [200.]\n",
            " [200.]\n",
            " [200.]\n",
            " [200.]\n",
            " [200.]\n",
            " [200.]\n",
            " [200.]]\n"
          ]
        }
      ],
      "source": [
        "p, n = 10, 20\n",
        "a = np.ones((p,n,n))\n",
        "b = np.ones((p,n,1))\n",
        "c = np.tensordot(a, b, axes=[[0, 2], [0, 1]])\n",
        "print(c)"
      ]
    },
    {
      "cell_type": "markdown",
      "metadata": {
        "id": "9CA67YTyBjsN"
      },
      "source": [
        "#### 87. Consider a 16x16 array, how to get the block-sum (block size is 4x4)? (★★★) \n",
        "(**hint**: np.add.reduceat)"
      ]
    },
    {
      "cell_type": "code",
      "execution_count": 12,
      "metadata": {
        "id": "dMNgmQipBjsR",
        "colab": {
          "base_uri": "https://localhost:8080/"
        },
        "outputId": "95d77ac3-8947-447f-f416-57ee7f39a906"
      },
      "outputs": [
        {
          "output_type": "stream",
          "name": "stdout",
          "text": [
            "[[16. 16. 16. 16.]\n",
            " [16. 16. 16. 16.]\n",
            " [16. 16. 16. 16.]\n",
            " [16. 16. 16. 16.]]\n"
          ]
        }
      ],
      "source": [
        "a = np.ones((16,16))\n",
        "k = 4\n",
        "b = np.add.reduceat(np.add.reduceat(a, np.arange(0, a.shape[0], k), axis=0),\n",
        "                                       np.arange(0, a.shape[1], k), axis=1)\n",
        "print(b)"
      ]
    },
    {
      "cell_type": "markdown",
      "metadata": {
        "id": "tzwvOvZ6BjsS"
      },
      "source": [
        "#### 88. How to implement the Game of Life using numpy arrays? (★★★)"
      ]
    },
    {
      "cell_type": "code",
      "execution_count": null,
      "metadata": {
        "id": "mzhQLxVtBjsS"
      },
      "outputs": [],
      "source": [
        ""
      ]
    },
    {
      "cell_type": "markdown",
      "metadata": {
        "id": "kwLDBVEKBjsT"
      },
      "source": [
        "#### 89. How to get the n largest values of an array (★★★) \n",
        "(**hint**: np.argsort | np.argpartition)"
      ]
    },
    {
      "cell_type": "code",
      "execution_count": null,
      "metadata": {
        "id": "4HWyh1XpBjsT",
        "colab": {
          "base_uri": "https://localhost:8080/"
        },
        "outputId": "c41adabc-541e-42df-a881-0b3510834e09"
      },
      "outputs": [
        {
          "output_type": "stream",
          "name": "stdout",
          "text": [
            "[0.99915181 0.99915863 0.99919359 0.99919673 0.99929919 0.99934942\n",
            " 0.9994301  0.99950047 0.99959428 0.99976282]\n"
          ]
        }
      ],
      "source": [
        "a = np.random.rand(10000)\n",
        "n = 10\n",
        "print(a[np.argsort(a)[-n:]])"
      ]
    },
    {
      "cell_type": "markdown",
      "metadata": {
        "id": "9dm5ZIe_BjsT"
      },
      "source": [
        "#### 90. Given an arbitrary number of vectors, build the cartesian product (every combinations of every item) (★★★) \n",
        "(**hint**: np.indices)"
      ]
    },
    {
      "cell_type": "code",
      "source": [
        "a=([1,2],[4,5,6],[7,8,9])\n",
        "b=[np.asarray(i) for i in a]\n",
        "shape=(len(i) for i in b)\n",
        "index=np.indices(shape,dtype=int)\n",
        "index=index.reshape(len(b),-1).T\n",
        "for i,j in enumerate(b):\n",
        "  index[:,i] = b[i][index[:,i]]\n",
        "print(index)\n"
      ],
      "metadata": {
        "colab": {
          "base_uri": "https://localhost:8080/"
        },
        "id": "PHA5GpNZZ9JR",
        "outputId": "75629d73-ad67-42bf-88ad-ffe83a17c179"
      },
      "execution_count": null,
      "outputs": [
        {
          "output_type": "stream",
          "name": "stdout",
          "text": [
            "[[1 4 7]\n",
            " [1 4 8]\n",
            " [1 4 9]\n",
            " [1 5 7]\n",
            " [1 5 8]\n",
            " [1 5 9]\n",
            " [1 6 7]\n",
            " [1 6 8]\n",
            " [1 6 9]\n",
            " [2 4 7]\n",
            " [2 4 8]\n",
            " [2 4 9]\n",
            " [2 5 7]\n",
            " [2 5 8]\n",
            " [2 5 9]\n",
            " [2 6 7]\n",
            " [2 6 8]\n",
            " [2 6 9]]\n"
          ]
        }
      ]
    },
    {
      "cell_type": "markdown",
      "metadata": {
        "id": "NqN65kvxBjsU"
      },
      "source": [
        "#### 91. How to create a record array from a regular array? (★★★) \n",
        "(**hint**: np.core.records.fromarrays)"
      ]
    },
    {
      "cell_type": "code",
      "execution_count": null,
      "metadata": {
        "id": "qMXOIoOUBjsU",
        "colab": {
          "base_uri": "https://localhost:8080/"
        },
        "outputId": "f2fa2aa9-a6af-42aa-beaf-526b23d6f8ad"
      },
      "outputs": [
        {
          "output_type": "stream",
          "name": "stdout",
          "text": [
            "[(b'Hello', 2.5, 3) (b'World', 3.6, 2)]\n"
          ]
        }
      ],
      "source": [
        "a = np.array([(\"Hello\", 2.5, 3),(\"World\", 3.6, 2)])\n",
        "b = np.core.records.fromarrays(a.T,names='col1, col2, col3',formats = 'S8, f8, i8')\n",
        "print(b)"
      ]
    },
    {
      "cell_type": "markdown",
      "metadata": {
        "id": "2dNqjwNZBjsV"
      },
      "source": [
        "#### 92. Consider a large vector Z, compute Z to the power of 3 using 3 different methods (★★★) \n",
        "(**hint**: np.power, \\*, np.einsum)"
      ]
    },
    {
      "cell_type": "code",
      "execution_count": null,
      "metadata": {
        "id": "WHKigYb9BjsV",
        "colab": {
          "base_uri": "https://localhost:8080/"
        },
        "outputId": "d84d5ce4-5101-417e-ed67-4abe4bce4da0"
      },
      "outputs": [
        {
          "output_type": "stream",
          "name": "stdout",
          "text": [
            "[0.0145325  0.98394237 0.0412222  ... 0.53752947 0.95350265 0.64885466] [0.0145325  0.98394237 0.0412222  ... 0.53752947 0.95350265 0.64885466] [0.0145325  0.98394237 0.0412222  ... 0.53752947 0.95350265 0.64885466]\n"
          ]
        }
      ],
      "source": [
        "Z = np.random.rand(int(5e7))\n",
        "a=np.power(Z,3)\n",
        "b=Z*Z*Z\n",
        "c=np.einsum('i,i,i->i',Z,Z,Z)\n",
        "print(a,b,c)"
      ]
    },
    {
      "cell_type": "markdown",
      "metadata": {
        "id": "NWPPtyDmBjsV"
      },
      "source": [
        "#### 93. Consider two arrays A and B of shape (8,3) and (2,2). How to find rows of A that contain elements of each row of B regardless of the order of the elements in B? (★★★) \n",
        "(**hint**: np.where)"
      ]
    },
    {
      "cell_type": "code",
      "execution_count": null,
      "metadata": {
        "id": "UIG-ykSABjsW",
        "colab": {
          "base_uri": "https://localhost:8080/"
        },
        "outputId": "7e30a227-9165-407d-9d66-ed802a563dc1"
      },
      "outputs": [
        {
          "output_type": "stream",
          "name": "stdout",
          "text": [
            "[0 1 2 3 4 6 7]\n"
          ]
        }
      ],
      "source": [
        "A = np.random.randint(0,5,(8,3))\n",
        "B = np.random.randint(0,5,(2,2))\n",
        "\n",
        "C = (A[..., np.newaxis, np.newaxis] == B)\n",
        "rows = np.where(C.any((3,1)).all(1))[0]\n",
        "print(rows)"
      ]
    },
    {
      "cell_type": "markdown",
      "metadata": {
        "id": "RSGMNLnuBjsW"
      },
      "source": [
        "#### 94. Considering a 10x3 matrix, extract rows with unequal values (e.g. \\[2,2,3\\]) (★★★)"
      ]
    },
    {
      "cell_type": "code",
      "source": [
        "a = np.random.randint(0,5,(10,3))\n",
        "b = np.logical_and.reduce(Z[:,1:] == Z[:,:-1], axis=1)\n",
        "c = a[~b]\n",
        "print(a)\n",
        "print(c)"
      ],
      "metadata": {
        "colab": {
          "base_uri": "https://localhost:8080/"
        },
        "id": "Mr4zPp8bVpFL",
        "outputId": "01c2f265-6260-4130-efad-c29902756daf"
      },
      "execution_count": null,
      "outputs": [
        {
          "output_type": "stream",
          "name": "stdout",
          "text": [
            "[[1 2 4]\n",
            " [3 1 3]\n",
            " [3 4 1]\n",
            " [1 1 3]\n",
            " [4 1 1]\n",
            " [4 0 4]\n",
            " [0 2 3]\n",
            " [4 0 0]\n",
            " [3 3 2]\n",
            " [2 0 3]]\n",
            "[[1 2 4]\n",
            " [3 1 3]\n",
            " [3 4 1]\n",
            " [1 1 3]\n",
            " [4 1 1]\n",
            " [4 0 4]\n",
            " [0 2 3]\n",
            " [4 0 0]\n",
            " [3 3 2]\n",
            " [2 0 3]]\n"
          ]
        }
      ]
    },
    {
      "cell_type": "markdown",
      "metadata": {
        "id": "nZT3bId6Bjsa"
      },
      "source": [
        "#### 95. Convert a vector of ints into a matrix binary representation (★★★) \n",
        "(**hint**: np.unpackbits)"
      ]
    },
    {
      "cell_type": "code",
      "execution_count": null,
      "metadata": {
        "id": "DqJA3ohLBjsa",
        "colab": {
          "base_uri": "https://localhost:8080/"
        },
        "outputId": "e3c34a4f-6593-47bb-c0d5-eaadbd0c36a6"
      },
      "outputs": [
        {
          "output_type": "stream",
          "name": "stdout",
          "text": [
            "[[0 0 0 0 0 0 0 0]\n",
            " [0 0 0 0 0 0 0 1]\n",
            " [0 0 0 0 0 0 1 0]\n",
            " [0 0 0 0 0 0 1 1]\n",
            " [0 0 0 0 1 1 1 1]\n",
            " [0 0 0 1 0 0 0 0]\n",
            " [0 0 1 0 0 0 0 0]\n",
            " [0 1 0 0 0 0 0 0]\n",
            " [1 0 0 0 0 0 0 0]]\n"
          ]
        }
      ],
      "source": [
        "a = np.array([0, 1, 2, 3, 15, 16, 32, 64, 128], dtype=np.uint8)\n",
        "b=np.unpackbits(a[:, np.newaxis], axis=1)\n",
        "print(b)"
      ]
    },
    {
      "cell_type": "markdown",
      "metadata": {
        "id": "kmHSWs_9Bjsb"
      },
      "source": [
        "#### 96. Given a two dimensional array, how to extract unique rows? (★★★) \n",
        "(**hint**: np.ascontiguousarray)"
      ]
    },
    {
      "cell_type": "code",
      "execution_count": null,
      "metadata": {
        "id": "sAyMUEqJBjsc",
        "colab": {
          "base_uri": "https://localhost:8080/"
        },
        "outputId": "560ddd56-f0e1-435e-947b-ca4abea424b4"
      },
      "outputs": [
        {
          "output_type": "stream",
          "name": "stdout",
          "text": [
            "[[0 0 0]\n",
            " [0 1 0]\n",
            " [1 0 0]\n",
            " [1 1 1]]\n"
          ]
        }
      ],
      "source": [
        "a= np.random.randint(0,2,(6,3))\n",
        "b = np.ascontiguousarray(a).view(np.dtype((np.void, a.dtype.itemsize * a.shape[1])))\n",
        "_, u = np.unique(b, return_index=True)\n",
        "c = a[u]\n",
        "print(c)"
      ]
    },
    {
      "cell_type": "markdown",
      "metadata": {
        "id": "xcG5PmMCBjsc"
      },
      "source": [
        "#### 97. Considering 2 vectors A & B, write the einsum equivalent of inner, outer, sum, and mul function (★★★) \n",
        "(**hint**: np.einsum)"
      ]
    },
    {
      "cell_type": "code",
      "execution_count": null,
      "metadata": {
        "id": "CJ3wT03aBjsc",
        "colab": {
          "base_uri": "https://localhost:8080/"
        },
        "outputId": "e6c94a86-9fb8-48a5-bae8-d31866b2520c"
      },
      "outputs": [
        {
          "output_type": "stream",
          "name": "stdout",
          "text": [
            "a_sum :4.118973722380966  mul : [0.11324891 0.02202649 0.08496635 0.00098692 0.48486243 0.15346128\n",
            " 0.15310218 0.32892706 0.02445094 0.33064954] inner : 1.6966820830398313 outer : [[1.13248906e-01 1.01075686e-02 5.82801441e-02 4.34183687e-02\n",
            "  1.70034171e-01 5.30115232e-02 7.50973151e-02 8.22648460e-02\n",
            "  1.06414319e-01 1.17383266e-01]\n",
            " [2.46792853e-01 2.20264883e-02 1.27004521e-01 9.46176302e-02\n",
            "  3.70539722e-01 1.15523103e-01 1.63652624e-01 1.79272161e-01\n",
            "  2.31898870e-01 2.55802480e-01]\n",
            " [1.65105045e-01 1.47357765e-02 8.49663466e-02 6.32994346e-02\n",
            "  2.47892014e-01 7.72852491e-02 1.09484021e-01 1.19933530e-01\n",
            "  1.55140932e-01 1.71132508e-01]\n",
            " [2.57420103e-03 2.29749800e-04 1.32473515e-03 9.86919992e-04\n",
            "  3.86495687e-03 1.20497692e-03 1.70699738e-03 1.86991874e-03\n",
            "  2.41884764e-03 2.66817697e-03]\n",
            " [3.22935909e-01 2.88223258e-02 1.66189255e-01 1.23810029e-01\n",
            "  4.84862428e-01 1.51165473e-01 2.14144406e-01 2.34583042e-01\n",
            "  3.03446682e-01 3.34725278e-01]\n",
            " [3.27840450e-01 2.92600606e-02 1.68713230e-01 1.25690376e-01\n",
            "  4.92226204e-01 1.53461276e-01 2.17396693e-01 2.38145737e-01\n",
            "  3.08055234e-01 3.39808869e-01]\n",
            " [2.30882481e-01 2.06064730e-02 1.18816726e-01 8.85177706e-02\n",
            "  3.46651571e-01 1.08075499e-01 1.53102180e-01 1.67714748e-01\n",
            "  2.16948691e-01 2.39311270e-01]\n",
            " [4.52813464e-01 4.04140166e-02 2.33026833e-01 1.73603637e-01\n",
            "  6.79863185e-01 2.11960824e-01 3.00268467e-01 3.28927062e-01\n",
            "  4.25486109e-01 4.69344253e-01]\n",
            " [2.60213294e-02 2.32242749e-03 1.33910947e-02 9.97628776e-03\n",
            "  3.90689440e-02 1.21805177e-02 1.72551951e-02 1.89020868e-02\n",
            "  2.44509386e-02 2.69712859e-02]\n",
            " [3.19003720e-01 2.84713743e-02 1.64165672e-01 1.22302472e-01\n",
            "  4.78958561e-01 1.49324825e-01 2.11536903e-01 2.31726670e-01\n",
            "  2.99751801e-01 3.30649538e-01]]\n"
          ]
        }
      ],
      "source": [
        "a = np.random.uniform(0,1,10)\n",
        "b = np.random.uniform(0,1,10)\n",
        "a_sum=np.einsum('i->',a)\n",
        "mul=np.einsum('i,i->i', a,b)\n",
        "inner=np.einsum('i,i', a,b) \n",
        "outer=np.einsum('i,j->ij', a,b)\n",
        "print(f'a_sum :{a_sum}  mul : {mul} inner : {inner} outer : {outer}')"
      ]
    },
    {
      "cell_type": "markdown",
      "metadata": {
        "id": "dDTcXVPiBjsd"
      },
      "source": [
        "#### 98. Considering a path described by two vectors (X,Y), how to sample it using equidistant samples (★★★)? \n",
        "(**hint**: np.cumsum, np.interp)"
      ]
    },
    {
      "cell_type": "code",
      "execution_count": null,
      "metadata": {
        "collapsed": true,
        "id": "JXtm91OrBjsd",
        "colab": {
          "base_uri": "https://localhost:8080/"
        },
        "outputId": "488e3eef-7ee0-4dd2-d5e8-ff22f0928bda"
      },
      "outputs": [
        {
          "output_type": "stream",
          "name": "stdout",
          "text": [
            "[  0.          -6.432776    -7.91485383  12.68524401  -9.28619199\n",
            "  -4.53222154  22.71635022 -22.84587094  -7.28126809  31.39601771] [  0.          -8.06088076  12.38931677 -12.8222377   18.68549988\n",
            " -22.89614131  11.80032104  15.57624336 -28.68172655  -0.50007209] [  0.          55.0099808  110.0199616  165.0299424  220.03992319\n",
            " 275.04990399 330.05988479 385.06986559 440.07984639 495.08982719]\n"
          ]
        }
      ],
      "source": [
        "a = np.arange(0, 10*np.pi, 0.1)\n",
        "n = 1\n",
        "x = n*a*np.cos(a)\n",
        "y = n*a*np.sin(a)\n",
        "b = (np.diff(x)**2 + np.diff(y)**2)**0.5\n",
        "z = np.zeros_like(x)\n",
        "z[1:] = np.cumsum(b)       \n",
        "z_int = np.linspace(0, z.max(), 10)\n",
        "x_int = np.interp(z_int, z, x) \n",
        "y_int = np.interp(z_int, z, y)\n",
        "print(x_int,y_int,z_int)"
      ]
    },
    {
      "cell_type": "markdown",
      "metadata": {
        "id": "I25-Z83qBjsd"
      },
      "source": [
        "#### 99. Given an integer n and a 2D array X, select from X the rows which can be interpreted as draws from a multinomial distribution with n degrees, i.e., the rows which only contain integers and which sum to n. (★★★) \n",
        "(**hint**: np.logical\\_and.reduce, np.mod)"
      ]
    },
    {
      "cell_type": "code",
      "execution_count": null,
      "metadata": {
        "id": "lBQEQ1L_Bjse",
        "colab": {
          "base_uri": "https://localhost:8080/"
        },
        "outputId": "591c92b6-cdd6-4c54-dc4c-e2026cc2077d"
      },
      "outputs": [
        {
          "output_type": "stream",
          "name": "stdout",
          "text": [
            "[[2. 0. 1. 1.]]\n"
          ]
        }
      ],
      "source": [
        "a = np.asarray([[1.0, 0.0, 3.0, 8.0],\n",
        "                [2.0, 0.0, 1.0, 1.0],\n",
        "                [1.5, 2.5, 1.0, 0.0]])\n",
        "n = 4\n",
        "u = np.logical_and.reduce(np.mod(a, 1) == 0, axis=-1)\n",
        "u &= (a.sum(axis=-1) == n)\n",
        "print(a[u])"
      ]
    },
    {
      "cell_type": "markdown",
      "metadata": {
        "id": "JPGSH7v1Bjse"
      },
      "source": [
        "#### 100. Compute bootstrapped 95% confidence intervals for the mean of a 1D array X (i.e., resample the elements of an array with replacement N times, compute the mean of each sample, and then compute percentiles over the means). (★★★) \n",
        "(**hint**: np.percentile)"
      ]
    },
    {
      "cell_type": "code",
      "execution_count": null,
      "metadata": {
        "id": "AQsq2VOXBjse",
        "colab": {
          "base_uri": "https://localhost:8080/"
        },
        "outputId": "189ecd8b-41d9-420a-f349-c1cf6dade7a7"
      },
      "outputs": [
        {
          "output_type": "stream",
          "name": "stdout",
          "text": [
            "[-0.04929434  0.34242367]\n"
          ]
        }
      ],
      "source": [
        "a = np.random.randn(100)\n",
        "n= 1000\n",
        "idx = np.random.randint(0, a.size, (n, a.size))\n",
        "means = a[idx].mean(axis=1)\n",
        "b = np.percentile(means, [2.5, 97.5])\n",
        "print(b)"
      ]
    }
  ],
  "metadata": {
    "kernelspec": {
      "display_name": "Python 3",
      "language": "python",
      "name": "python3"
    },
    "language_info": {
      "codemirror_mode": {
        "name": "ipython",
        "version": 3
      },
      "file_extension": ".py",
      "mimetype": "text/x-python",
      "name": "python",
      "nbconvert_exporter": "python",
      "pygments_lexer": "ipython3",
      "version": "3.8.3"
    },
    "colab": {
      "name": "LB-Numpy_tasks.ipynb",
      "provenance": [],
      "collapsed_sections": [
        "sIUmi2eHBjqD",
        "VR2Krur3BjqH",
        "rMNWAwSuBjqJ",
        "EKEaRSF3BjqL",
        "1J3nIGIHBjqM",
        "KDlAngRWBjqN",
        "vqwQZNa3BjqR",
        "4K9-zkc8BjqU",
        "9CUxVtlXBjqV",
        "Lesj7IleBjqX",
        "cRK14N5GBjqa",
        "GgjPf9Y7Bjqc",
        "PO34Rs42Bjqe",
        "aS-bJ_ciBjqf",
        "zm_JTN8ABjqg",
        "O1re31_sBjqh"
      ]
    }
  },
  "nbformat": 4,
  "nbformat_minor": 0
}